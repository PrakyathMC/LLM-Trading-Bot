{
 "cells": [
  {
   "cell_type": "code",
   "execution_count": 1,
   "id": "cc4f2b51",
   "metadata": {},
   "outputs": [],
   "source": [
    "from langchain_astradb import AstraDBVectorStore\n",
    "from langchain_openai import OpenAIEmbeddings\n",
    "from dotenv import load_dotenv\n",
    "import os\n",
    "import pandas as pd"
   ]
  },
  {
   "cell_type": "code",
   "execution_count": 2,
   "id": "b48782ad",
   "metadata": {},
   "outputs": [
    {
     "data": {
      "text/plain": [
       "True"
      ]
     },
     "execution_count": 2,
     "metadata": {},
     "output_type": "execute_result"
    }
   ],
   "source": [
    "load_dotenv()"
   ]
  },
  {
   "cell_type": "code",
   "execution_count": 3,
   "id": "edeb6d6a",
   "metadata": {},
   "outputs": [],
   "source": [
    "OPENAI_API_KEY = os.getenv(\"OPENAI_API_KEY\")"
   ]
  },
  {
   "cell_type": "code",
   "execution_count": 4,
   "id": "d4048267",
   "metadata": {},
   "outputs": [],
   "source": [
    "os.environ[\"OPENAI_API_KEY\"] = OPENAI_API_KEY"
   ]
  },
  {
   "cell_type": "code",
   "execution_count": 7,
   "id": "155e6bca",
   "metadata": {},
   "outputs": [],
   "source": [
    "embedding = OpenAIEmbeddings()"
   ]
  },
  {
   "cell_type": "markdown",
   "id": "e43e5369",
   "metadata": {},
   "source": [
    "## Steps to setup and access AstraDB for data"
   ]
  },
  {
   "cell_type": "code",
   "execution_count": 9,
   "id": "433ef7fa",
   "metadata": {},
   "outputs": [],
   "source": [
    "ASTRA_DB_API_ENDPOINT = \"https://4c489f2d-a32e-4446-98e1-164bacd2c6da-us-east-2.apps.astra.datastax.com\""
   ]
  },
  {
   "cell_type": "code",
   "execution_count": 10,
   "id": "9294d7c3",
   "metadata": {},
   "outputs": [],
   "source": [
    "ASTRA_DB_APPLICATION_TOKEN = \"AstraCS:xhSzAbGIqSzGWbrmJrLFJTFs:5db1d2cb8de93689458492c1fc531b37baccfbeeb2251ca02d77cad9227f4204\""
   ]
  },
  {
   "cell_type": "code",
   "execution_count": 11,
   "id": "5dc166e6",
   "metadata": {},
   "outputs": [],
   "source": [
    "ASTRA_DB_KEYSPACE = \"default_keyspace\""
   ]
  },
  {
   "cell_type": "code",
   "execution_count": 12,
   "id": "70969bab",
   "metadata": {},
   "outputs": [],
   "source": [
    "collection_name = \"financebot\""
   ]
  },
  {
   "cell_type": "code",
   "execution_count": 15,
   "id": "ce52d420",
   "metadata": {},
   "outputs": [],
   "source": [
    "# initializing astradb object with parameters\n",
    "vstore = AstraDBVectorStore(\n",
    "    embedding=embedding,\n",
    "    collection_name=collection_name,\n",
    "    api_endpoint=ASTRA_DB_API_ENDPOINT,\n",
    "    token = ASTRA_DB_APPLICATION_TOKEN,\n",
    "    namespace=ASTRA_DB_KEYSPACE\n",
    ")"
   ]
  },
  {
   "cell_type": "code",
   "execution_count": null,
   "id": "1f84da7a",
   "metadata": {},
   "outputs": [],
   "source": [
    "# adding data\n",
    "vstore.add_documents()"
   ]
  }
 ],
 "metadata": {
  "kernelspec": {
   "display_name": "tradingchatbot",
   "language": "python",
   "name": "python3"
  },
  "language_info": {
   "codemirror_mode": {
    "name": "ipython",
    "version": 3
   },
   "file_extension": ".py",
   "mimetype": "text/x-python",
   "name": "python",
   "nbconvert_exporter": "python",
   "pygments_lexer": "ipython3",
   "version": "3.11.13"
  }
 },
 "nbformat": 4,
 "nbformat_minor": 5
}
