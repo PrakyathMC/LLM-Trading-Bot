{
 "cells": [
  {
   "cell_type": "code",
   "execution_count": 1,
   "id": "cc4f2b51",
   "metadata": {},
   "outputs": [],
   "source": [
    "from langchain_astradb import AstraDBVectorStore\n",
    "from langchain_openai import OpenAIEmbeddings\n",
    "from dotenv import load_dotenv\n",
    "import os\n",
    "import pandas as pd"
   ]
  },
  {
   "cell_type": "code",
   "execution_count": 2,
   "id": "b48782ad",
   "metadata": {},
   "outputs": [
    {
     "data": {
      "text/plain": [
       "True"
      ]
     },
     "execution_count": 2,
     "metadata": {},
     "output_type": "execute_result"
    }
   ],
   "source": [
    "load_dotenv()"
   ]
  },
  {
   "cell_type": "code",
   "execution_count": 3,
   "id": "edeb6d6a",
   "metadata": {},
   "outputs": [],
   "source": [
    "OPENAI_API_KEY = os.getenv(\"OPENAI_API_KEY\")"
   ]
  },
  {
   "cell_type": "code",
   "execution_count": 4,
   "id": "d4048267",
   "metadata": {},
   "outputs": [],
   "source": [
    "os.environ[\"OPENAI_API_KEY\"] = OPENAI_API_KEY"
   ]
  },
  {
   "cell_type": "code",
   "execution_count": 5,
   "id": "155e6bca",
   "metadata": {},
   "outputs": [],
   "source": [
    "embedding = OpenAIEmbeddings()"
   ]
  },
  {
   "cell_type": "markdown",
   "id": "e43e5369",
   "metadata": {},
   "source": [
    "## Steps to setup and access AstraDB for data"
   ]
  },
  {
   "cell_type": "code",
   "execution_count": 65,
   "id": "433ef7fa",
   "metadata": {},
   "outputs": [],
   "source": [
    "ASTRA_DB_API_ENDPOINT = \"https://4c489f2d-a32e-4446-98e1-164bacd2c6da-us-east-2.apps.astra.datastax.com\""
   ]
  },
  {
   "cell_type": "code",
   "execution_count": 66,
   "id": "9294d7c3",
   "metadata": {},
   "outputs": [],
   "source": [
    "ASTRA_DB_APPLICATION_TOKEN = \"AstraCS:xhSzAbGIqSzGWbrmJrLFJTFs:5db1d2cb8de93689458492c1fc531b37baccfbeeb2251ca02d77cad9227f4204\""
   ]
  },
  {
   "cell_type": "code",
   "execution_count": 67,
   "id": "5dc166e6",
   "metadata": {},
   "outputs": [],
   "source": [
    "ASTRA_DB_KEYSPACE = \"default_keyspace\""
   ]
  },
  {
   "cell_type": "code",
   "execution_count": 68,
   "id": "70969bab",
   "metadata": {},
   "outputs": [],
   "source": [
    "collection_name = \"financebot\""
   ]
  },
  {
   "cell_type": "code",
   "execution_count": 69,
   "id": "ce52d420",
   "metadata": {},
   "outputs": [],
   "source": [
    "# initializing astradb object with parameters\n",
    "vstore = AstraDBVectorStore(\n",
    "    embedding=embedding,\n",
    "    collection_name=collection_name,\n",
    "    api_endpoint=ASTRA_DB_API_ENDPOINT,\n",
    "    token = ASTRA_DB_APPLICATION_TOKEN,\n",
    "    namespace=ASTRA_DB_KEYSPACE\n",
    ")"
   ]
  },
  {
   "cell_type": "code",
   "execution_count": 70,
   "id": "578a468a",
   "metadata": {},
   "outputs": [],
   "source": [
    "from langchain_community.document_loaders import PyPDFLoader"
   ]
  },
  {
   "cell_type": "code",
   "execution_count": 71,
   "id": "9e9a5b3c",
   "metadata": {},
   "outputs": [],
   "source": [
    "# make sure to add second \\\n",
    "loader = PyPDFLoader(\"D:\\\\final_attempt_at_GENAI\\\\7_projects\\\\Trading_bot\\\\data\\\\finance_data.pdf\")"
   ]
  },
  {
   "cell_type": "code",
   "execution_count": 72,
   "id": "6f6af689",
   "metadata": {},
   "outputs": [],
   "source": [
    "pages = loader.load()"
   ]
  },
  {
   "cell_type": "code",
   "execution_count": 73,
   "id": "3636c496",
   "metadata": {},
   "outputs": [
    {
     "data": {
      "text/plain": [
       "108"
      ]
     },
     "execution_count": 73,
     "metadata": {},
     "output_type": "execute_result"
    }
   ],
   "source": [
    "len(pages)"
   ]
  },
  {
   "cell_type": "markdown",
   "id": "82c92d7d",
   "metadata": {},
   "source": [
    "#### this indicates that there is 108 pages of data in the pdf file, we will not use this much, but select a few "
   ]
  },
  {
   "cell_type": "code",
   "execution_count": 74,
   "id": "4b7b78a8",
   "metadata": {},
   "outputs": [],
   "source": [
    "pages = pages[10:20] # selecting 10 pages of data"
   ]
  },
  {
   "cell_type": "code",
   "execution_count": 75,
   "id": "27695878",
   "metadata": {},
   "outputs": [
    {
     "data": {
      "text/plain": [
       "'Table of Contents \\n9 \\nunderstand root causes. Our full-reticle CV test chips use a sh ortened process flow to provide a faster \\nlearning cycle for specific process modules. \\n\\uf0a7 Our Scribe CV test chips are inserted directly on customers’ product wafers to collect data about critical \\nlayers. \\n\\uf0a7 Our DirectProbe™ CV test chips are designed to enable ultra-fast yield learning for new product designs \\nby allowing our customers to measure components of actual product layout and identify yield issues. \\n• pdFasTest® Electrical Tester – Our proprietary electrical test hardware is optimized to quickly test our CV test \\nchips, enabling fast defect and p arametric characterization of manufacturing processes. As part of the system \\noffering, we provide test programs for each CV test chip that are tuned to the customer’s process. This automated \\nsystem provides parallel functional testing, thus minimizing th e time required to perform millions of electrical \\nmeasurements to test our CV test chips. We provide services to analyze the unique, differentiated data output of \\nthis tester using the Exensio Characterization software to provide actionable insights to our customers. \\n• Exensio Characterization software – This module, which is designed to integrate seamlessly with the rest of the \\nExensio software, collects the data generated from our CV test products, generating models of the performance \\neffects of process variations on these design building blocks. As part of the system offering, we also offer analysis \\nservices, if the customer elects not to do such analysis itself. \\nCimetrix® Software Products. Our Cimetrix software products enable equipment manufacturers in the semiconductor \\nand electronics industries to provide standard interfaces on their products for efficient equipment communication, control, \\nand data collection. Numerous industry standards have been established for equipment connectivity and control, including \\nthe SEMI (Semiconductor Equipment and Materials International) defined SECS (SEMI Equipment Communication \\nStandard), GEM (Generic Equipment Model), GEM300, and EDA (equipment data acquisition) standards. Our Cimetrix \\nproducts are designed to fully support these industry standards  to enable equipment manufacturers to implement robust, \\nturnkey support for these connectivity and control standards wi thout needing to invest engineering resources to develop \\ntheir own interfaces to these standards. Factories that purchase manufacturing equipment enabled with Cimetrix-supported \\ninterfaces, benefit from consist ent and robust implementations of industry standards, enabling faster and more efficient \\nimplementation of smart manufacturing initiatives that depend on the collection and analysis of manufacturing and product \\ndata. Cimetrix products are sold via perpetual licenses and typ ically sold as part of a softw are development kit (“SDK”) \\nthat helps equipment manufacturers implement them quickly. We c harge a one-time fee per equipment product type for \\nthe SDK license and a one-time fee for each piece of equipment shipped that includes the Cimetrix runtime license. \\n• Equipment Factory Connectivity – Our products for equipment factory connectivity primarily inclu de the \\nfollowing: \\n\\uf0a7 Cimetrix CIMConnect™ is a SEMI SECS/GEM interface to the factory host for automated control and \\ndata collection. The Cimetrix CIMConnect module supports multip le-host interfaces simultaneously, \\nwhich allows customers to support legacy, custom, and GEM interfaces. Cimetrix CIMConnect is used \\nin semiconductor wafer fabrication, semiconductor back-end (test, assembly, and packaging), PV, HB-\\nLED, disk drive, flat panel displays, printed circuit boards an d other electronics manufacturing. In \\naddition to enabling the implementation of the SEMI SECS/GEM st andards E4, E5, E30, E37, E172, \\nand E173, Cimetrix CIMConnect also supports SEMI PV2 (PVECI), A3 (PCBECI), and HB4 (HB-LED \\nECI) standards. \\n\\uf0a7 Cimetrix CIM300™ is a GEM interface for 300mm equipment using SEMI standards, including E39, \\nE40, E87, E90, E94, E116, E148, and E157. These SEMI standards allow for the full automation \\nrequired in manufacturing 300mm wafers. Cimetrix CIM300 manages  the interdependencies between \\nthe standards and simp lifies complex scenarios for easy impleme ntation of the standards. These \\nGEM300 standards are required for full automation in manufactur ing of 300mm wafers. Cimetrix '"
      ]
     },
     "execution_count": 75,
     "metadata": {},
     "output_type": "execute_result"
    }
   ],
   "source": [
    "pages[0].page_content"
   ]
  },
  {
   "cell_type": "code",
   "execution_count": 76,
   "id": "62caed87",
   "metadata": {},
   "outputs": [
    {
     "data": {
      "text/plain": [
       "10"
      ]
     },
     "execution_count": 76,
     "metadata": {},
     "output_type": "execute_result"
    }
   ],
   "source": [
    "len(pages)"
   ]
  },
  {
   "cell_type": "code",
   "execution_count": 77,
   "id": "1552745d",
   "metadata": {},
   "outputs": [
    {
     "name": "stdout",
     "output_type": "stream",
     "text": [
      "0 page_content='Table of Contents \\n9 \\nunderstand root causes. Our full-reticle CV test chips use a sh ortened process flow to provide a faster \\nlearning cycle for specific process modules. \\n\\uf0a7 Our Scribe CV test chips are inserted directly on customers’ product wafers to collect data about critical \\nlayers. \\n\\uf0a7 Our DirectProbe™ CV test chips are designed to enable ultra-fast yield learning for new product designs \\nby allowing our customers to measure components of actual product layout and identify yield issues. \\n• pdFasTest® Electrical Tester – Our proprietary electrical test hardware is optimized to quickly test our CV test \\nchips, enabling fast defect and p arametric characterization of manufacturing processes. As part of the system \\noffering, we provide test programs for each CV test chip that are tuned to the customer’s process. This automated \\nsystem provides parallel functional testing, thus minimizing th e time required to perform millions of electrical \\nmeasurements to test our CV test chips. We provide services to analyze the unique, differentiated data output of \\nthis tester using the Exensio Characterization software to provide actionable insights to our customers. \\n• Exensio Characterization software – This module, which is designed to integrate seamlessly with the rest of the \\nExensio software, collects the data generated from our CV test products, generating models of the performance \\neffects of process variations on these design building blocks. As part of the system offering, we also offer analysis \\nservices, if the customer elects not to do such analysis itself. \\nCimetrix® Software Products. Our Cimetrix software products enable equipment manufacturers in the semiconductor \\nand electronics industries to provide standard interfaces on their products for efficient equipment communication, control, \\nand data collection. Numerous industry standards have been established for equipment connectivity and control, including \\nthe SEMI (Semiconductor Equipment and Materials International) defined SECS (SEMI Equipment Communication \\nStandard), GEM (Generic Equipment Model), GEM300, and EDA (equipment data acquisition) standards. Our Cimetrix \\nproducts are designed to fully support these industry standards  to enable equipment manufacturers to implement robust, \\nturnkey support for these connectivity and control standards wi thout needing to invest engineering resources to develop \\ntheir own interfaces to these standards. Factories that purchase manufacturing equipment enabled with Cimetrix-supported \\ninterfaces, benefit from consist ent and robust implementations of industry standards, enabling faster and more efficient \\nimplementation of smart manufacturing initiatives that depend on the collection and analysis of manufacturing and product \\ndata. Cimetrix products are sold via perpetual licenses and typ ically sold as part of a softw are development kit (“SDK”) \\nthat helps equipment manufacturers implement them quickly. We c harge a one-time fee per equipment product type for \\nthe SDK license and a one-time fee for each piece of equipment shipped that includes the Cimetrix runtime license. \\n• Equipment Factory Connectivity – Our products for equipment factory connectivity primarily inclu de the \\nfollowing: \\n\\uf0a7 Cimetrix CIMConnect™ is a SEMI SECS/GEM interface to the factory host for automated control and \\ndata collection. The Cimetrix CIMConnect module supports multip le-host interfaces simultaneously, \\nwhich allows customers to support legacy, custom, and GEM interfaces. Cimetrix CIMConnect is used \\nin semiconductor wafer fabrication, semiconductor back-end (test, assembly, and packaging), PV, HB-\\nLED, disk drive, flat panel displays, printed circuit boards an d other electronics manufacturing. In \\naddition to enabling the implementation of the SEMI SECS/GEM st andards E4, E5, E30, E37, E172, \\nand E173, Cimetrix CIMConnect also supports SEMI PV2 (PVECI), A3 (PCBECI), and HB4 (HB-LED \\nECI) standards. \\n\\uf0a7 Cimetrix CIM300™ is a GEM interface for 300mm equipment using SEMI standards, including E39, \\nE40, E87, E90, E94, E116, E148, and E157. These SEMI standards allow for the full automation \\nrequired in manufacturing 300mm wafers. Cimetrix CIM300 manages  the interdependencies between \\nthe standards and simp lifies complex scenarios for easy impleme ntation of the standards. These \\nGEM300 standards are required for full automation in manufactur ing of 300mm wafers. Cimetrix ' metadata={'source': 'D:\\\\final_attempt_at_GENAI\\\\7_projects\\\\Trading_bot\\\\data\\\\finance_data.pdf', 'page': 10}\n",
      "1 page_content='Table of Contents \\n10 \\nCIM300 works with Cimetrix CIMConnect to implement the GEM300 a nd the original GEM suite of \\nstandards. \\n\\uf0a7 Cimetrix CIMPortal™ Plus is an interface for EDA, also known as Interface A. The EDA standards are \\nE120, E125, E132, E134, E138, E 147, and E164. Cimetrix CIMPorta l Plus implements the EDA \\nstandards in a flexible architecture that collects data from multiple sources and routes the data to multiple \\nclients simultaneously. Factories can use the data gathered through EDA interfaces for FDC, run-to-run \\nadvanced process control, equipment health monitoring, chamber/ tool matching, predictive \\nmaintenance, virtual metrology, diagnostics, and many other equipment-related analytical applications. \\n• Equipment Factory Connectivity Testing – We provide the following products for testing the interfaces developed \\nusing our equipment factory connectivity products: Cimetrix Equ ipmentTest™, for testing and validating \\ncompliance with the GEM and GEM300 standards, Cimetrix EDATester™, for testing and validating compliance \\nwith the EDA/Interface A standard s, and performan ce testing of the interface, and Cimetrix ECCE Plus™ for \\nquick testing of the EDA/Interface A interface. \\n• Equipment Control – Our equipment control product is the Cimetrix CIMControlFramework™ (“Cimetrix CCF”) \\nsoftware, which includes components for supervisory control, ma terial handling, operator interface, platform \\ncontrol, and factory automation requirements, to allow equipmen t manufacturers to meet the requirements of \\nfabrication facilities. Developer s can leverage framework compo nents through configuration and extension or \\ncustomize the framework when unique requirements exist. Cimetrix CCF is designed to allow data generated at \\nany point on the equipment to be quickly and easily accessed by other modules or external applications. Cimetrix \\nCIMConnect, Cimetrix CIM300, and Cimetrix CIMPortal Plus are in tegrated with Cimetrix CCF to support the \\nSEMI GEM, GEM300, and EDA/Interface A standards. \\nServices \\nOur services are almost always sold together with, or to support, our products and include the following: \\nSoftware-as-a-Service – We provide services to make our Exensio software available to our customers via the Internet, \\ngenerally hosted by third-party providers. SaaS is considered part of cloud computing since the software is hosted on the \\nInternet, or the “cloud.” Since our SaaS applications are accessed from a remote server rather than installed on individual \\nmachines, it is easier to maintain. For example, when the remot e software is updated, the customer’s interface is also \\nupdated for all users. Cloud computing is designed to eliminate incompatibilities between different software versions and \\nallow us to make incremental updates without requiring software downloads. Additionally, our customers can save data to \\na central online location, which is designed to allow increased  project collaboration. As part of these services, we also \\ntypically provide hosted management services for the software and the customer’s data stored in our cloud. These services \\ninclude environment set-up and configuration, system health mon itoring, data integration maintenance, integration \\nmonitoring, system updates, security, and data upload/download, and license administration. \\nSoftware Related Services  – We provide software maintenance and support (“M&S”), data ma nagement services, \\nvarious value-added services (“VAS”) to install, configure, or create analysis templates, and other professional services to \\nachieve customers’ specific outcomes using our software. We call this last type of services our solutions offering and, in \\nthese cases, we tailor the use of  one or more Exensio products to achieve a desired result. For example, our AIM \\nYieldAware™ FDC solution offering is designed to identify the process control variables that have the greatest impact on \\nproduct yield through professional services that analyze the da ta from both Exensio Proce ss Control and elements of \\nExensio Manufacturing Analytics and make recommendations for th e customer to implement. VAS are provided by our \\nprofessional service personnel with expertise that enhances and complements the engineering teams at our customers. For \\nexample, VAS includes our data cleaning and monitoring services. One requirement of big data analytics is to have clean, \\nharmonized data to analyze. This service offering outsources th e data wrangling and management effort to free the \\ncustomer to focus their efforts on analysis, which has a greater ROI to the company than data management. \\nCharacterization Services  – These services are designed to characterize key product and/ or process elements, \\nprimarily into CV test structures  or DFI on-chip measurement in struments, and typically do not include performance ' metadata={'source': 'D:\\\\final_attempt_at_GENAI\\\\7_projects\\\\Trading_bot\\\\data\\\\finance_data.pdf', 'page': 11}\n",
      "2 page_content='Table of Contents \\n11 \\nincentives based on the customers’ yield achievement. We provid e these services, typically together with all elements of \\nour CV system, to foundry customers in connection with new proc ess technology development and/or yield ramp. In \\nCharacterization engagements, we generally provide the analysis of our CV test chips and provide summary findings and \\nrecommendations to the customer. Characterization engagements can include DFI systems. \\nCustomers \\nOur existing customers include f oundries, IDMs, fabless semicon ductor design companies, OSATs, equipment \\nmanufacturers, EMS, and ODMs, including those that embed and di stribute our Assembly Operations modules in their \\nequipment. Our semiconductor customers’ targeted product segmen ts vary significantly, including microprocessors, \\nmemory, graphics, image sensor solutions, and communications. W e believe that the adoption of our solutions by such \\ncompanies for usage in a wide range of products validates the a pplication of our solutions to the broader semiconductor \\nmarket. We often have multiple contracts with a single customer or customer group, with no interdependent performance \\nobligations. In general, our customer contracts are non-cancellable. \\nOne customer accounted for 35% of  our revenues for 2023, two cu stomers accounted for 41% of our revenues for \\n2022 and two customers accounted for 27% of our revenues for 2021. No other customers accounted for 10% or more of \\nour revenues in 2023, 2022 and 2021. Also, two customers accoun ted for 50% of our gross accounts receivable as of \\nDecember 31, 2023, and three cust omers accounted for 53% of our  gross accounts receivable as of December 31, 2022. \\nWe generally do not require collateral or other security to support accounts receivable. See the discussion in “Risk Factors” \\nunder Item 1A for more information about risks associated with customer concentration and contractual provisions. \\nInternational revenues accounted for approximately 44%, 50% and  55% of our total revenues for 2023, 2022 and \\n2021, respectively. We base these calculations on the geographi c location of where the work is performed or where the \\ncustomer is located. Revenues from customers by geographic area  based on the location of the customers’ work sites for \\nthe last three fiscal years can be found in Note 11, “Customer and Geographic Information” to the consolidated financial \\nstatements. Additional discussion regarding the risks associated with international operations can be found under Item 1A, \\n“Risk Factors”. \\nSee our “Notes to Consolidated F inancial Statements”, included under Part II, Item 8. “Financial Statements and \\nSupplementary Data” for additional geographic information. \\nSales and Marketing \\nOur sales strategy is primarily to pursue targeted accounts through a combination of our direct sales force, our service \\nteams, and strategic alliances. After we are engaged by a customer and early in the services process, our engineers seek to \\nestablish relationships in the organization and gain an underst anding of our customers’ business issues. Our direct sales \\nand service teams combine their efforts to deepen our customer relationships by expanding our penetration across \\ncustomers’ products, processes, and technologies. This close wo rking relationship with each customer has the added \\nbenefit of helping us to identify new product areas and technol ogies in which we should next focus our research and \\ndevelopment efforts. From time-to-time, we use sales representa tives/agents in various locations to augment direct sales \\nin certain territories.  \\nWe expect to continue to establish strategic alliances with pro cess licensors, vendors in the electronic design \\nautomation software, capital equipment for IC production, and test silicon IP and mask-making software segments to create \\nand take advantage of sales channel and co-marketing opportunit ies. Additionally, we expect to form relationships with \\nkey value chain participants, including foundries and OSATs, to  provide services and value across the manufacturing \\nsupply chain. \\nResearch and Development \\nOur research and development focuses on developing and introduc ing new proprietary technologies for our \\ncomprehensive platform, including our Exensio software, Cimetri x connectivity and control products, and DFI and CV \\nsystems, as well as other software products and enhancements to our existing solutions, such as field applications for DFI ' metadata={'source': 'D:\\\\final_attempt_at_GENAI\\\\7_projects\\\\Trading_bot\\\\data\\\\finance_data.pdf', 'page': 12}\n",
      "3 page_content='Table of Contents \\n12 \\nand CV and new applications targeted to inter-operate with stra tegic partner products. We use a rapid-prototyping \\nparadigm in the context of the customer engagement to achieve t hese goals. We have made, and expect to continue to \\nmake, substantial investments in research and development. The complexity of our technologies requires expertise in \\nstandards, physical IC design and layout, transistor design and semiconductor physics, semiconductor process integration, \\nnumerical algorithms, e-beam tech nology, hardware, statistics a nd software development. We believe that our team of \\nengineers will continue to advance our market and technological  leadership. We conduct in-house training for our \\nengineers in certain technical ar eas. Our training also extends  to focusing on ways to enhance customer service skills. \\nAlthough it fluctuates, we can have up to one quarter of our research and development engineers assigned to one or more \\nprojects, partnered with solution services engineers, in a deliberate strategy to provide direct feedback between technology \\ndevelopment and customer needs. We also utilize a variety of skilled independent contractors for specialized development. \\nCompetition \\nThe semiconductor industry is highly competitive and driven by rapidly changing design and process technologies, \\nevolving standards, short product life cycles, and decreasing prices. We expect market competition to continue to develop \\nand increase as the market for data and analytics continues to evolve. We believe IC companies benefit from a combination \\nof big data management infrastructure, AI/ML-based analytics en gines, and products that generate and collect \\ndifferentiated data that enrich the analytics process. Currentl y, we are a leading provider o f comprehensive commercial \\nhardware, software and IP solutions for optimizing and improvin g design, manufacturing and test operations processes \\nthrough the application of differentiated data and advanced analytics. As a result, we face competition from three primary \\ngroups: internal customer development or design programs, equipment solutions providers, and providers of analytical and \\ndesign software. We face indirect competition from internal groups at IC companies that offer tools with varying degrees \\nof optimization to accelerate pr ocess-design integration or tes t operations. Some providers of semiconductor \\nmanufacturing software, inspection equipment, electronic design  automation, or design IP may seek to broaden their \\nproduct offerings and compete with us. In addition, companies providing general ML and analytics software may focus on \\nsemiconductor companies and compete with us. In each of the market segments we compete in, we face competition from \\nestablished and potential competitors, some of whom may have gr eater financial, research, engineering, manufacturing \\nand marketing resources than we have. \\nWe currently face indirect competition from the internal groups at IC companies and direct competition from providers \\nof (i) yield management and/or prediction systems, such as KLA Corporation (“KLA”), Siemens AG (“Siemens”), Onto \\nInnovation, Inc. (“Onto”), and Synopsys, Inc. (“Synopsys”); (ii) semiconductor manufacturing software, such as Applied \\nMaterials, Inc (“Applied Materials”), Synopsys, Invantest, Inc. , Emerson Electric Co., Onto,  and Siemens; (iii) inline \\ninspection, metrology and electrical test equipment providers, such as ASML Holding N.V. (“ASML”), Applied Materials, \\nKLA, and Keysight Technologies, Inc.; and, (iv) connectivity software or integration products/services supporting factory \\nequipment connectivity or control needs of customers, such as P E E R  G r o u p ,  I n c . ,  K o n t r o n  A I S ,  G m b H ,  Y o k o g a w a  \\nElectric Corp., Advantest, and Kornic Automation Co. Ltd. There  may be other providers of competitive commercial \\nsolutions of which we are not aware, and we may compete with th e products or offerings of these named companies or \\nadditional companies if we expand our offerings through acquisitions or development. For example, since our acquisition \\nof Cimetrix in late 2020, we now face competition in the produc ts/services supporting the connectivity, control and \\nintegration of factory equipment. The demand for solutions that address the need for better integration between the silicon \\ndesign and manufacturing processes may encourage direct competitors to enter our market. For example, in 2020, two of \\nour competitors were acquired by larger entities, Synopsys acqu ired Qualtera and NI, Inc. acquired Optimal+, and each \\nhas increased marketing or pricing competition with us. For example, in 2023, Emerson Electric Co. acquired NI, Inc. This \\ncompetition in our market may intensify in the future, which could lead to increased pricing pressure, negatively impacting \\nour revenues, and slow our ability to grow or execute our strategy. Also, our current and potential customers may choose \\nto develop their own solutions internally, particularly if we are slow in deploying our solutions or improving them to meet \\nmarket needs. These and other competitors may be able to operat e  w i t h  a  l o w e r  c o s t  s t r u c t u r e  t h a n  o u r  e n g i n e e r i n g  \\norganization, which would give any such competitor’s products a competitive advantage over our solutions. \\nWe believe that our solutions compare favorably with respect to  competition because we have demonstrated results \\nand reputation, strong core technology, ability to create innovative technology, and ability to implement solutions for new \\ntechnology and product generations. See the discussions in “Risk Factors” under Item 1A for more information about risks \\nassociated with our competition. ' metadata={'source': 'D:\\\\final_attempt_at_GENAI\\\\7_projects\\\\Trading_bot\\\\data\\\\finance_data.pdf', 'page': 13}\n",
      "4 page_content='Table of Contents \\n13 \\nHuman Capital Management \\nWe believe that our future success will depend, in part, on our  continued ability to hire and retain qualified \\nmanagement, sales, and technical employees. Consequently, we se ek to engage in sound ethical and organizational \\ngovernance, promote business et hics and integrity, and embrace equality, diversity, and inclusion throughout our \\norganization. \\nAs of December 31, 2023, we had 493 employees worldwide, includ ing 171 field application engineers and \\nconsultants, 155 in research and development, 106 in sales and marketing, and 61 in general and administrative functions. \\nOf these employees, 285 are located in the United States, 172 in Asia, and 36 in Europe. \\nNone of our employees are represented by a labor union. Our employees in France and Italy are subject to collective \\nbargaining agreements in those countries. \\nOur commitment to human capital management is embedded in our governance structure \\nAt the Board level, our Compensation and Human Capital Manageme nt Committee is tasked with oversight of the \\ndevelopment, implementation and effectiveness of our policies a nd strategies relating to human capital management, \\nincluding strategies regarding recruiting, selection, career de velopment and progression, and diversity and employment \\npractices. Further, our Nominating and Corporate Governance Committee is tasked with primary oversight for governance \\nand ESG issues. \\nTalent Development \\nWe are committed to the development and growth of our employees  because we believe this is crucial for our long-\\nterm success. This includes offering training, mentorship, and other development opportunities to further enhance the \\ntalent we have today, but also entails having the right skill sets for our future. \\nTo this end, we are working to implement a planned set of actions around increasing formal programs to achieve these \\ngoals. We believe that our team of engineers will continue to advance our market and technological leadership. We conduct \\nin-house training for our engineers in certain technical areas. \\nWe also fund attendance at continuing education courses, symposia, and participation in professional organizations. \\nEmployee Engagement \\nEmployee engagement is crucial for the overall health of the organization. In 2023, we conducted a survey of all our \\nemployees to assess overall employee engagement. \\nIn addition to our efforts to address employee engagement, we a re committed to supporting our employees and \\ncreating an engaged workforce by prioritizing the items below: \\n• personal growth through training and development; \\n• recognizing and rewarding our people for their commitment to our values and our organization; \\n• flexible work locations and schedules; and \\n• providing a sense of organizational community by hosting online  as well as in-person events where our people \\ncan gather and connect. ' metadata={'source': 'D:\\\\final_attempt_at_GENAI\\\\7_projects\\\\Trading_bot\\\\data\\\\finance_data.pdf', 'page': 14}\n",
      "5 page_content='Table of Contents \\n14 \\nHealth and Safety \\nWe are committed to ensuring that proper working conditions exi s t  f o r  t h e  s a f e t y  o f  o u r  e m p l o y e e s ,  s u c h  a s  \\ndeveloping, implementing, and improving health and safety syste ms and conditions, and providing appropriate \\npreparation, education, reporting, and controls. \\nDiversity, Equity, and Inclusion \\nWe work to ensure that our business practices support diversity and inclusion to build an innovative workforce and to \\nstrive toward having our organization reflect the complexion of  o u r  c u s t o m e r s  a n d  s u p p l i e r s .  I n  F e b r u a r y  2 0 2 4 ,  a f t e r  \\nconsidering the recommendation of the Nominating and Corporate Governance Committee, the Compensation and Human \\nCapital Management Committee approved, and then our Board adopt ed, a Human Rights policy and a Diversity, Equity, \\nand Inclusion (“DEI”) Policy to better implement our core values and relevant standards into our governance structure.  \\nWe are strengthening our diversity and inclusion programs with actions around organizational training, on-going \\neducation and focus on our company values, and a revitalized recruitment strategy. \\nWe value a range of diverse perspectives with reference to our business model and specific needs, including, but not \\nlimited to, gender, age, race, lan guage, cultural background, e ducational background, industry experience, professional \\nexperience, and veteran and active armed service status or other similar characteristics.  \\nInformation about our Executive Officers \\nThe following table and notes set forth information about our c urrent executive officers as of the date of this \\nForm 10 - K. \\n   \\nName      Age     Position\\nJ o h n  K .  K i b a r i a n ,  P h . D .  .....  5 9  P r e s i d e n t ,  C h i e f  E x e c u t i v e  O fficer, and Director \\nA d n a n  R a z a  ...............  5 1  E x e c u t i v e  V i c e  P r e s i d e n t ,  F i n a n ce and Chief Financial Officer\\nK i m o n  W .  M i c h a e l s ,  P h . D .  ...  5 7  E x e c u t i v e  V i c e  P r e s i d e n t ,  P r o ducts and Solutions and Director\\nAndrzej Strojw a s ,  P h . D .  .....  7 1  C h i e f  T e c h n o l ogy Officer\\nJohn K. Kibarian, Ph.D., one of our founders, has served as President since November 1 991 and has served as our \\nChief Executive Officer since July  2000. Dr. Kibarian has serve d as a director on our Board of Directors since \\nDecember 1992. Dr. Kibarian received a B.S. in Electrical Engineering, an M.S. E.C.E. and a Ph.D. E.C.E. from Carnegie \\nMellon University. \\nAdnan Raza, joined in January 2020 as Executive Vice President, Finance, and was appointed Chief Financial Officer \\neffective in March 2020. Prior to joining the Company, Mr. Raza served as an independent strategy consultant for private \\nand public companies from July 2019 to January 2020. Prior to that, Mr. Raza served in various roles at Synaptics Inc., a \\ndeveloper of human interface technologies, including as Senior Vice President of Corporate Development from \\nAugust 2017 to June 2019 and Vice President of Corporate Development from February 2015 to August 2017. Prior roles \\ninclude technology investment banking at Goldman, Sachs & Co. a nd UBS Investment Bank, strategic advising at \\nBlackreef Capital, engineering and  marketing at Azanda Network Devices, and engineering at Lucent Technologies. \\nMr. Raza also served as a Board Member at FIDO Alliance, an alliance of leading technology companies to enhance user \\nsecurity and authentication. Mr . Raza holds an M.B.A. from The Wharton School at the University of Pennsylvania, a \\nM. Eng. in Electrical Engineerin g from Cornell University, and a B.S. in Electrical Engineering from Valparaiso \\nUniversity. \\nKimon W. Michaels, Ph.D., one of our founders, has served as Vice President, Products and Solutions since July 2010 \\nand was designated as an Executive VP in February 2019. Dr. Mic haels served as Vice President, Design for \\nManufacturability from June 2007 through June 2010. Prior to th at, Dr. Michaels served as Vice President, Field \\nOperations for Manufacturing Process Solutions from January 200 6 through May 2007, and has served as a director on \\nour Board of Directors since November 1995. From March 1993 thr ough December 2005, he served in various vice \\npresidential capacities. He also served as Chief Financial Offi cer of the Company from November 1995 to July 1998. \\nDr. Michaels received a B.S. in Electrical Engineering, and M.S . E.C.E. and a Ph.D. E.C.E. from Carnegie Mellon \\nUniversity. ' metadata={'source': 'D:\\\\final_attempt_at_GENAI\\\\7_projects\\\\Trading_bot\\\\data\\\\finance_data.pdf', 'page': 15}\n",
      "6 page_content='Table of Contents \\n15 \\nAndrzej Strojwas, Ph.D. , served as a technical advisor to the Company from our foundin g until 2021 and as chief \\ntechnologist from 1997 to 2021. He joined the Company as an emp loyee in July 2021 as Vice President and Technical \\nGeneral Manager, and was appointed Chief Technology Officer eff ective December 2021. From October 1982 to \\nJuly 2021, Dr. Strojwas was the Keithley Professor of Electrica l and Computer Engineering at Carnegie Mellon \\nUniversity. In addition, Dr. Strojwas has held senior technical  positions at Harris Semiconductor Co., AT&T Bell Labs, \\nTexas Instruments, NEC, Hitachi, SEMATECH, and KLA. He holds an  M.S. in Electronic Engineering from Warsaw \\nTechnical University and a Ph.D. in Electrical Engineering from Carnegie Mellon University. \\nAvailable Information \\nWe file or furnish various reports, such as registration statements, periodic and current reports, proxy statements and \\nother materials with the SEC. Our Internet website address is w ww.pdf.com. You may obtain, free of charge on our \\nwebsite, copies of our annual reports on Form 10  - K, quarterly reports on Form 10  - Q, current reports on Form 8  - K, and \\namendments to those reports filed or furnished pursuant to Sect ion 13(a) or 15(d) of the Exchange Act, as soon as \\nreasonably practicable after we electronically file such materi al with, or furnish it to, the SEC. The Company’s website \\naddress provided is not intended to function as a hyperlink, an d the information on the Company’s website is not, and \\nshould not be considered, part of this Annual Report on Form 10 - K and is not incorporated by reference herein. \\nThe SEC maintains a Web site (http://www.sec.gov) that contains reports, proxy and information statements and other \\ninformation regarding issuers, such as us, that file electronically with the SEC. \\n  ' metadata={'source': 'D:\\\\final_attempt_at_GENAI\\\\7_projects\\\\Trading_bot\\\\data\\\\finance_data.pdf', 'page': 16}\n",
      "7 page_content='Table of Contents \\n16 \\nItem 1A. Risk Factors \\nA description of the risk factors associated with our business is set forth below. Some of these risks are highlighted in \\nthe following discussion, and in Management’s Discussion and Analysis of Financial Condition and Results of Operations, \\nLegal Proceedings, and Quantitative and Qualitative Disclosures About Market Risk. The occurrence of any of these risks \\nor additional risks and uncertainties not presently known to us or that we currently believe to be immaterial could materially \\nand adversely affect our business, operating results, financial  condition, and stock price. These risks and uncertainties \\ncould cause our actual results to differ materially from the re sults contemplated by the forward-looking statements \\ncontained in this report. Investors should carefully consider a ll relevant risks and uncertainties before investing in our \\ncommon stock. \\nRisk Factors Summary \\nRisks Associated with Our Business \\n• We have invested significant resources into research and develo pment of our DFI system and Exensio software \\nand if we fail to successfully carry out these initiatives on the expected timeline or at all, our business, financial \\ncondition, or results of operations could be adversely impacted. \\n• Our sales cycle is lengthy and customers may delay entering into contracts or decide not to adopt our products or \\nsolutions after we have performed services or supported their evaluation of our technology, which could result in \\ndelays in recognizing revenue and could negatively impact our results of operations in a quarter or result in lower \\nrevenue than we expected if a contract is not consummated. \\n• We rely on sole-source providers for certain software as well as for specialized parts for our eProbe hardware and \\nsupply-chain delays or disrupti ons could increase our costs or impact our ability to provide complete software \\nsolutions or to build additional hardware tools or meet customer expectations or deadlines, which could result in \\nlost sales and lower earnings. \\n• Our fixed-fee services for product or system installations/conf igurations may take longer than budgeted, which \\ncould slow our revenue recognition and may result in a lost contract or a claim of breach by our customers, which \\nwould negatively affect our financial and operating results. \\n• Our ability to sell our products, systems, and solutions depends in part on the quality of our support and services \\nofferings, and the failure to offer high-quality support and se rvices could negatively affect our sales and results \\nof operations. \\n• Defects in our proprietary technologies, hardware and software tools, and failure to effectively remedy any such \\ndefects could decrease our revenue and our competitive market share. \\n• Objectionable disclosure of our customers’ confidential information or our failure to comply with our customers’ \\nsecurity rules, including for those related to SaaS access, AI use, or our on-site access, could result in costly \\nlitigation, cause us to lose existing and potential customers, or negatively impact on-going business with existing \\ncustomers. \\n• We generate a significant portion of our revenues from a limited number of customers, and a large percentage of \\nour revenues from one customer, so defaults or decreased business with, or the loss of, any one of these customers, \\nor pricing pressure, or customer consolidation could significantly reduce our revenues or margins and negatively \\nimpact results of operations. \\n• If we do not continuously meet our development milestones of ke y research and development projects or \\nsuccessfully commercialize our DFI system, our future market opportunity and revenues will suffer, and our costs \\nmay not be recouped. ' metadata={'source': 'D:\\\\final_attempt_at_GENAI\\\\7_projects\\\\Trading_bot\\\\data\\\\finance_data.pdf', 'page': 17}\n",
      "8 page_content='Table of Contents \\n17 \\n• We are required to comply with governmental export and import r equirements that could subject us to liability \\nand restrict our ability to sell our products and services, which could impair our ability to compete in international \\nmarkets. \\n• Decreases in wafer volumes at our customers’ manufacturing site s or the volume of ICs that some of our \\ncustomers are able to sell to their customers would cause our Integrated Yield Ramp revenue to suffer. \\n• We acquired an early-stage battery-solutions provider and have been investing in research and development for \\nnew products and services beyond our traditional semiconductor focus, and it could take a long time to reach \\nmarket acceptance and recoup our costs, if at all. \\n• Our success depends upon our ability to effectively plan and ma nage our resources and restructure our business \\nthrough rapidly fluctuating economic and market conditions, whi ch actions may have an adverse effect on our \\nfinancial and operating results. \\n• Our business may be negatively im pacted by social, political, g eopolitical, economic instability, unrest, war, \\nterrorism, or other circumstances that could interrupt our business operations, which could cause us to lose sales \\nor delay or be unable to fulfill contractual commitments, which may have an adverse effect on our financial and \\noperating results. \\n• Global economic conditions or semiconductor market conditions c ould materially adversely impact demand for \\nour products and services, decrease our sales, or delay our sales cycle. \\n• We face challenges in providing a  comprehensive s olution outsid e of the semiconductor industry due to \\nlimitations on the business areas in which we can use current t hird-party licensed technology, which may make \\nit prohibitively expensive to sell our solution for applications outside of our traditional industry. \\nRisks Related to Our Technology \\n• If we fail to protect our IP rights, customers or potential com petitors may be able to use our technologies to \\ndevelop their own solutions, which could weaken our competitive position, reduce our revenues, or increase our \\ncosts. \\n• We are exposed to risks related to information technology infrastructure, information management and protection, \\ncybersecurity threats, and cyber incidents. \\n• We and our customers are subject to laws and regulations concer ning data privacy, dat a security, consumer \\nprotection, and advertising and these laws and regulations are continually evolving, which exposes us to potential \\nmaterial risks. \\n• Our technologies could infringe the IP rights of others, causing costly litigation and the loss of significant rights. \\n• Competition in the market for data analytics and related systems and services may intensify in the future, which \\ncould impede our ability to grow or execute our strategy. \\n• Generative AI and the user other advanced AI technologies for s oftware development may subject us to claims \\nof misappropriation of others’ IP, bugs/errors, and ambiguous ownership of created content. \\nRisks Related to Our Operations \\n• Measurement of our variable consideration sometimes require dat a collection and customers’ use of estimates \\nand are contingent upon customers’ consent and may be later offset if actual data differ from customers’ estimates, \\nwhich can result in uncertainty and cause quarterly results to fluctuate. ' metadata={'source': 'D:\\\\final_attempt_at_GENAI\\\\7_projects\\\\Trading_bot\\\\data\\\\finance_data.pdf', 'page': 18}\n",
      "9 page_content='Table of Contents \\n18 \\n• We have customers with past due balances and our failure to collect a significant portion of such balances could \\nadversely affect our cash, require us to write-off receivables,  or increase our expense or allowance for credit \\nlosses. \\n• We face operational and financial risks associated with international operations that could negatively impact our \\nrevenues. \\n• Our business is subject to evolving corporate governance and pu blic disclosure regulations and expectations, \\nincluding with respect to ESG matters that could expose us to numerous risks. \\n• Provision of certain of our data services relies on installing, configuring, and operating proprietary configuration \\nof hardware and software systems located in third-party facilit ies and errors affecting such facilities’ operations \\ncould lead to liability for us, and any objection from such third-party facility or delay in providing us physical or \\nlogical access to our systems may adversely impact our ability to timely perform our contract obligations or lead \\nto confidentiality, integrity, availability, security, or privacy controls exceptions. \\nTax Risks \\n \\n• U.S. federal tax reform and chan ges in foreign tax laws could c hange our tax burden and adversely affect our \\nbusiness and financial condition. \\n• Future events may impact our deferred tax asset position, inclu ding the utilization of net operating loss and tax \\ncredit carryforwards. \\nRisks Related to Our Strategic Transactions \\n• We may devote significant time and resources to developing stra tegic relationships but we may not realize the \\nbenefits of such efforts, which could have an adverse effect on our business and results of operations. \\n• Our acquisitions create special risks and challenges that could adversely affect our financial results. \\nGeneral Risk Factors \\n• If we are not able to retain, a ttract, motivate, and strategica lly locate talented employees, including some key \\nexecutives, our business may suffer. \\n• Our earnings per share and other operating results may vary quarter to quarter, which could result in not meeting \\ninvestors’ expectations and stock price volatility. \\n• Our business could be negatively affected as a result of actions of activist shareholders, and such activism could \\nimpact the trading value of our securities. \\nRisks Associated with Our Business \\nWe have invested significant resources into research and development of our DFI system and Exensio software and if \\nwe fail to successfully carry out these initiatives on the expected timeline or at all, our business, financial condition, or \\nresults of operations could be adversely impacted. \\nAs part of the evolution of our business, we have made substant ial investments in research and development efforts \\nto develop our DFI system and Exensio software. New competitors, technological advances in the semiconductor industry \\nor other competitive factors may require us to further invest significantly greater resources than we anticipate. If we invest \\nsignificantly greater resources than anticipated without a corr esponding increase in revenue, our operating results could \\ndecline. The technologies and products that we invest in may not result in products that create additional revenue, and we ' metadata={'source': 'D:\\\\final_attempt_at_GENAI\\\\7_projects\\\\Trading_bot\\\\data\\\\finance_data.pdf', 'page': 19}\n"
     ]
    }
   ],
   "source": [
    "for i, doc in enumerate(pages):\n",
    "    print(i, doc)"
   ]
  },
  {
   "cell_type": "code",
   "execution_count": 78,
   "id": "85d326ca",
   "metadata": {},
   "outputs": [],
   "source": [
    "# collecting all data as string, this will eliminate page split issues\n",
    "\n",
    "raw_text = ''\n",
    "for i, doc in enumerate (pages):\n",
    "    text = doc.page_content\n",
    "    if text:\n",
    "        raw_text += text"
   ]
  },
  {
   "cell_type": "code",
   "execution_count": 79,
   "id": "0e0fcfc6",
   "metadata": {},
   "outputs": [
    {
     "name": "stdout",
     "output_type": "stream",
     "text": [
      "Table of Contents \n",
      "9 \n",
      "understand root causes. Our full-reticle CV test chips use a sh ortened process flow to provide a faster \n",
      "learning cycle for specific process modules. \n",
      " Our Scribe CV test chips are inserted directly on customers’ product wafers to collect data about critical \n",
      "layers. \n",
      " Our DirectProbe™ CV test chips are designed to enable ultra-fast yield learning for new product designs \n",
      "by allowing our customers to measure components of actual product layout and identify yield issues. \n",
      "• pdFasTest® Electrical Tester – Our proprietary electrical test hardware is optimized to quickly test our CV test \n",
      "chips, enabling fast defect and p arametric characterization of manufacturing processes. As part of the system \n",
      "offering, we provide test programs for each CV test chip that are tuned to the customer’s process. This automated \n",
      "system provides parallel functional testing, thus minimizing th e time required to perform millions of electrical \n",
      "measurements to test our CV test chips. We provide services to analyze the unique, differentiated data output of \n",
      "this tester using the Exensio Characterization software to provide actionable insights to our customers. \n",
      "• Exensio Characterization software – This module, which is designed to integrate seamlessly with the rest of the \n",
      "Exensio software, collects the data generated from our CV test products, generating models of the performance \n",
      "effects of process variations on these design building blocks. As part of the system offering, we also offer analysis \n",
      "services, if the customer elects not to do such analysis itself. \n",
      "Cimetrix® Software Products. Our Cimetrix software products enable equipment manufacturers in the semiconductor \n",
      "and electronics industries to provide standard interfaces on their products for efficient equipment communication, control, \n",
      "and data collection. Numerous industry standards have been established for equipment connectivity and control, including \n",
      "the SEMI (Semiconductor Equipment and Materials International) defined SECS (SEMI Equipment Communication \n",
      "Standard), GEM (Generic Equipment Model), GEM300, and EDA (equipment data acquisition) standards. Our Cimetrix \n",
      "products are designed to fully support these industry standards  to enable equipment manufacturers to implement robust, \n",
      "turnkey support for these connectivity and control standards wi thout needing to invest engineering resources to develop \n",
      "their own interfaces to these standards. Factories that purchase manufacturing equipment enabled with Cimetrix-supported \n",
      "interfaces, benefit from consist ent and robust implementations of industry standards, enabling faster and more efficient \n",
      "implementation of smart manufacturing initiatives that depend on the collection and analysis of manufacturing and product \n",
      "data. Cimetrix products are sold via perpetual licenses and typ ically sold as part of a softw are development kit (“SDK”) \n",
      "that helps equipment manufacturers implement them quickly. We c harge a one-time fee per equipment product type for \n",
      "the SDK license and a one-time fee for each piece of equipment shipped that includes the Cimetrix runtime license. \n",
      "• Equipment Factory Connectivity – Our products for equipment factory connectivity primarily inclu de the \n",
      "following: \n",
      " Cimetrix CIMConnect™ is a SEMI SECS/GEM interface to the factory host for automated control and \n",
      "data collection. The Cimetrix CIMConnect module supports multip le-host interfaces simultaneously, \n",
      "which allows customers to support legacy, custom, and GEM interfaces. Cimetrix CIMConnect is used \n",
      "in semiconductor wafer fabrication, semiconductor back-end (test, assembly, and packaging), PV, HB-\n",
      "LED, disk drive, flat panel displays, printed circuit boards an d other electronics manufacturing. In \n",
      "addition to enabling the implementation of the SEMI SECS/GEM st andards E4, E5, E30, E37, E172, \n",
      "and E173, Cimetrix CIMConnect also supports SEMI PV2 (PVECI), A3 (PCBECI), and HB4 (HB-LED \n",
      "ECI) standards. \n",
      " Cimetrix CIM300™ is a GEM interface for 300mm equipment using SEMI standards, including E39, \n",
      "E40, E87, E90, E94, E116, E148, and E157. These SEMI standards allow for the full automation \n",
      "required in manufacturing 300mm wafers. Cimetrix CIM300 manages  the interdependencies between \n",
      "the standards and simp lifies complex scenarios for easy impleme ntation of the standards. These \n",
      "GEM300 standards are required for full automation in manufactur ing of 300mm wafers. Cimetrix Table of Contents \n",
      "10 \n",
      "CIM300 works with Cimetrix CIMConnect to implement the GEM300 a nd the original GEM suite of \n",
      "standards. \n",
      " Cimetrix CIMPortal™ Plus is an interface for EDA, also known as Interface A. The EDA standards are \n",
      "E120, E125, E132, E134, E138, E 147, and E164. Cimetrix CIMPorta l Plus implements the EDA \n",
      "standards in a flexible architecture that collects data from multiple sources and routes the data to multiple \n",
      "clients simultaneously. Factories can use the data gathered through EDA interfaces for FDC, run-to-run \n",
      "advanced process control, equipment health monitoring, chamber/ tool matching, predictive \n",
      "maintenance, virtual metrology, diagnostics, and many other equipment-related analytical applications. \n",
      "• Equipment Factory Connectivity Testing – We provide the following products for testing the interfaces developed \n",
      "using our equipment factory connectivity products: Cimetrix Equ ipmentTest™, for testing and validating \n",
      "compliance with the GEM and GEM300 standards, Cimetrix EDATester™, for testing and validating compliance \n",
      "with the EDA/Interface A standard s, and performan ce testing of the interface, and Cimetrix ECCE Plus™ for \n",
      "quick testing of the EDA/Interface A interface. \n",
      "• Equipment Control – Our equipment control product is the Cimetrix CIMControlFramework™ (“Cimetrix CCF”) \n",
      "software, which includes components for supervisory control, ma terial handling, operator interface, platform \n",
      "control, and factory automation requirements, to allow equipmen t manufacturers to meet the requirements of \n",
      "fabrication facilities. Developer s can leverage framework compo nents through configuration and extension or \n",
      "customize the framework when unique requirements exist. Cimetrix CCF is designed to allow data generated at \n",
      "any point on the equipment to be quickly and easily accessed by other modules or external applications. Cimetrix \n",
      "CIMConnect, Cimetrix CIM300, and Cimetrix CIMPortal Plus are in tegrated with Cimetrix CCF to support the \n",
      "SEMI GEM, GEM300, and EDA/Interface A standards. \n",
      "Services \n",
      "Our services are almost always sold together with, or to support, our products and include the following: \n",
      "Software-as-a-Service – We provide services to make our Exensio software available to our customers via the Internet, \n",
      "generally hosted by third-party providers. SaaS is considered part of cloud computing since the software is hosted on the \n",
      "Internet, or the “cloud.” Since our SaaS applications are accessed from a remote server rather than installed on individual \n",
      "machines, it is easier to maintain. For example, when the remot e software is updated, the customer’s interface is also \n",
      "updated for all users. Cloud computing is designed to eliminate incompatibilities between different software versions and \n",
      "allow us to make incremental updates without requiring software downloads. Additionally, our customers can save data to \n",
      "a central online location, which is designed to allow increased  project collaboration. As part of these services, we also \n",
      "typically provide hosted management services for the software and the customer’s data stored in our cloud. These services \n",
      "include environment set-up and configuration, system health mon itoring, data integration maintenance, integration \n",
      "monitoring, system updates, security, and data upload/download, and license administration. \n",
      "Software Related Services  – We provide software maintenance and support (“M&S”), data ma nagement services, \n",
      "various value-added services (“VAS”) to install, configure, or create analysis templates, and other professional services to \n",
      "achieve customers’ specific outcomes using our software. We call this last type of services our solutions offering and, in \n",
      "these cases, we tailor the use of  one or more Exensio products to achieve a desired result. For example, our AIM \n",
      "YieldAware™ FDC solution offering is designed to identify the process control variables that have the greatest impact on \n",
      "product yield through professional services that analyze the da ta from both Exensio Proce ss Control and elements of \n",
      "Exensio Manufacturing Analytics and make recommendations for th e customer to implement. VAS are provided by our \n",
      "professional service personnel with expertise that enhances and complements the engineering teams at our customers. For \n",
      "example, VAS includes our data cleaning and monitoring services. One requirement of big data analytics is to have clean, \n",
      "harmonized data to analyze. This service offering outsources th e data wrangling and management effort to free the \n",
      "customer to focus their efforts on analysis, which has a greater ROI to the company than data management. \n",
      "Characterization Services  – These services are designed to characterize key product and/ or process elements, \n",
      "primarily into CV test structures  or DFI on-chip measurement in struments, and typically do not include performance Table of Contents \n",
      "11 \n",
      "incentives based on the customers’ yield achievement. We provid e these services, typically together with all elements of \n",
      "our CV system, to foundry customers in connection with new proc ess technology development and/or yield ramp. In \n",
      "Characterization engagements, we generally provide the analysis of our CV test chips and provide summary findings and \n",
      "recommendations to the customer. Characterization engagements can include DFI systems. \n",
      "Customers \n",
      "Our existing customers include f oundries, IDMs, fabless semicon ductor design companies, OSATs, equipment \n",
      "manufacturers, EMS, and ODMs, including those that embed and di stribute our Assembly Operations modules in their \n",
      "equipment. Our semiconductor customers’ targeted product segmen ts vary significantly, including microprocessors, \n",
      "memory, graphics, image sensor solutions, and communications. W e believe that the adoption of our solutions by such \n",
      "companies for usage in a wide range of products validates the a pplication of our solutions to the broader semiconductor \n",
      "market. We often have multiple contracts with a single customer or customer group, with no interdependent performance \n",
      "obligations. In general, our customer contracts are non-cancellable. \n",
      "One customer accounted for 35% of  our revenues for 2023, two cu stomers accounted for 41% of our revenues for \n",
      "2022 and two customers accounted for 27% of our revenues for 2021. No other customers accounted for 10% or more of \n",
      "our revenues in 2023, 2022 and 2021. Also, two customers accoun ted for 50% of our gross accounts receivable as of \n",
      "December 31, 2023, and three cust omers accounted for 53% of our  gross accounts receivable as of December 31, 2022. \n",
      "We generally do not require collateral or other security to support accounts receivable. See the discussion in “Risk Factors” \n",
      "under Item 1A for more information about risks associated with customer concentration and contractual provisions. \n",
      "International revenues accounted for approximately 44%, 50% and  55% of our total revenues for 2023, 2022 and \n",
      "2021, respectively. We base these calculations on the geographi c location of where the work is performed or where the \n",
      "customer is located. Revenues from customers by geographic area  based on the location of the customers’ work sites for \n",
      "the last three fiscal years can be found in Note 11, “Customer and Geographic Information” to the consolidated financial \n",
      "statements. Additional discussion regarding the risks associated with international operations can be found under Item 1A, \n",
      "“Risk Factors”. \n",
      "See our “Notes to Consolidated F inancial Statements”, included under Part II, Item 8. “Financial Statements and \n",
      "Supplementary Data” for additional geographic information. \n",
      "Sales and Marketing \n",
      "Our sales strategy is primarily to pursue targeted accounts through a combination of our direct sales force, our service \n",
      "teams, and strategic alliances. After we are engaged by a customer and early in the services process, our engineers seek to \n",
      "establish relationships in the organization and gain an underst anding of our customers’ business issues. Our direct sales \n",
      "and service teams combine their efforts to deepen our customer relationships by expanding our penetration across \n",
      "customers’ products, processes, and technologies. This close wo rking relationship with each customer has the added \n",
      "benefit of helping us to identify new product areas and technol ogies in which we should next focus our research and \n",
      "development efforts. From time-to-time, we use sales representa tives/agents in various locations to augment direct sales \n",
      "in certain territories.  \n",
      "We expect to continue to establish strategic alliances with pro cess licensors, vendors in the electronic design \n",
      "automation software, capital equipment for IC production, and test silicon IP and mask-making software segments to create \n",
      "and take advantage of sales channel and co-marketing opportunit ies. Additionally, we expect to form relationships with \n",
      "key value chain participants, including foundries and OSATs, to  provide services and value across the manufacturing \n",
      "supply chain. \n",
      "Research and Development \n",
      "Our research and development focuses on developing and introduc ing new proprietary technologies for our \n",
      "comprehensive platform, including our Exensio software, Cimetri x connectivity and control products, and DFI and CV \n",
      "systems, as well as other software products and enhancements to our existing solutions, such as field applications for DFI Table of Contents \n",
      "12 \n",
      "and CV and new applications targeted to inter-operate with stra tegic partner products. We use a rapid-prototyping \n",
      "paradigm in the context of the customer engagement to achieve t hese goals. We have made, and expect to continue to \n",
      "make, substantial investments in research and development. The complexity of our technologies requires expertise in \n",
      "standards, physical IC design and layout, transistor design and semiconductor physics, semiconductor process integration, \n",
      "numerical algorithms, e-beam tech nology, hardware, statistics a nd software development. We believe that our team of \n",
      "engineers will continue to advance our market and technological  leadership. We conduct in-house training for our \n",
      "engineers in certain technical ar eas. Our training also extends  to focusing on ways to enhance customer service skills. \n",
      "Although it fluctuates, we can have up to one quarter of our research and development engineers assigned to one or more \n",
      "projects, partnered with solution services engineers, in a deliberate strategy to provide direct feedback between technology \n",
      "development and customer needs. We also utilize a variety of skilled independent contractors for specialized development. \n",
      "Competition \n",
      "The semiconductor industry is highly competitive and driven by rapidly changing design and process technologies, \n",
      "evolving standards, short product life cycles, and decreasing prices. We expect market competition to continue to develop \n",
      "and increase as the market for data and analytics continues to evolve. We believe IC companies benefit from a combination \n",
      "of big data management infrastructure, AI/ML-based analytics en gines, and products that generate and collect \n",
      "differentiated data that enrich the analytics process. Currentl y, we are a leading provider o f comprehensive commercial \n",
      "hardware, software and IP solutions for optimizing and improvin g design, manufacturing and test operations processes \n",
      "through the application of differentiated data and advanced analytics. As a result, we face competition from three primary \n",
      "groups: internal customer development or design programs, equipment solutions providers, and providers of analytical and \n",
      "design software. We face indirect competition from internal groups at IC companies that offer tools with varying degrees \n",
      "of optimization to accelerate pr ocess-design integration or tes t operations. Some providers of semiconductor \n",
      "manufacturing software, inspection equipment, electronic design  automation, or design IP may seek to broaden their \n",
      "product offerings and compete with us. In addition, companies providing general ML and analytics software may focus on \n",
      "semiconductor companies and compete with us. In each of the market segments we compete in, we face competition from \n",
      "established and potential competitors, some of whom may have gr eater financial, research, engineering, manufacturing \n",
      "and marketing resources than we have. \n",
      "We currently face indirect competition from the internal groups at IC companies and direct competition from providers \n",
      "of (i) yield management and/or prediction systems, such as KLA Corporation (“KLA”), Siemens AG (“Siemens”), Onto \n",
      "Innovation, Inc. (“Onto”), and Synopsys, Inc. (“Synopsys”); (ii) semiconductor manufacturing software, such as Applied \n",
      "Materials, Inc (“Applied Materials”), Synopsys, Invantest, Inc. , Emerson Electric Co., Onto,  and Siemens; (iii) inline \n",
      "inspection, metrology and electrical test equipment providers, such as ASML Holding N.V. (“ASML”), Applied Materials, \n",
      "KLA, and Keysight Technologies, Inc.; and, (iv) connectivity software or integration products/services supporting factory \n",
      "equipment connectivity or control needs of customers, such as P E E R  G r o u p ,  I n c . ,  K o n t r o n  A I S ,  G m b H ,  Y o k o g a w a  \n",
      "Electric Corp., Advantest, and Kornic Automation Co. Ltd. There  may be other providers of competitive commercial \n",
      "solutions of which we are not aware, and we may compete with th e products or offerings of these named companies or \n",
      "additional companies if we expand our offerings through acquisitions or development. For example, since our acquisition \n",
      "of Cimetrix in late 2020, we now face competition in the produc ts/services supporting the connectivity, control and \n",
      "integration of factory equipment. The demand for solutions that address the need for better integration between the silicon \n",
      "design and manufacturing processes may encourage direct competitors to enter our market. For example, in 2020, two of \n",
      "our competitors were acquired by larger entities, Synopsys acqu ired Qualtera and NI, Inc. acquired Optimal+, and each \n",
      "has increased marketing or pricing competition with us. For example, in 2023, Emerson Electric Co. acquired NI, Inc. This \n",
      "competition in our market may intensify in the future, which could lead to increased pricing pressure, negatively impacting \n",
      "our revenues, and slow our ability to grow or execute our strategy. Also, our current and potential customers may choose \n",
      "to develop their own solutions internally, particularly if we are slow in deploying our solutions or improving them to meet \n",
      "market needs. These and other competitors may be able to operat e  w i t h  a  l o w e r  c o s t  s t r u c t u r e  t h a n  o u r  e n g i n e e r i n g  \n",
      "organization, which would give any such competitor’s products a competitive advantage over our solutions. \n",
      "We believe that our solutions compare favorably with respect to  competition because we have demonstrated results \n",
      "and reputation, strong core technology, ability to create innovative technology, and ability to implement solutions for new \n",
      "technology and product generations. See the discussions in “Risk Factors” under Item 1A for more information about risks \n",
      "associated with our competition. Table of Contents \n",
      "13 \n",
      "Human Capital Management \n",
      "We believe that our future success will depend, in part, on our  continued ability to hire and retain qualified \n",
      "management, sales, and technical employees. Consequently, we se ek to engage in sound ethical and organizational \n",
      "governance, promote business et hics and integrity, and embrace equality, diversity, and inclusion throughout our \n",
      "organization. \n",
      "As of December 31, 2023, we had 493 employees worldwide, includ ing 171 field application engineers and \n",
      "consultants, 155 in research and development, 106 in sales and marketing, and 61 in general and administrative functions. \n",
      "Of these employees, 285 are located in the United States, 172 in Asia, and 36 in Europe. \n",
      "None of our employees are represented by a labor union. Our employees in France and Italy are subject to collective \n",
      "bargaining agreements in those countries. \n",
      "Our commitment to human capital management is embedded in our governance structure \n",
      "At the Board level, our Compensation and Human Capital Manageme nt Committee is tasked with oversight of the \n",
      "development, implementation and effectiveness of our policies a nd strategies relating to human capital management, \n",
      "including strategies regarding recruiting, selection, career de velopment and progression, and diversity and employment \n",
      "practices. Further, our Nominating and Corporate Governance Committee is tasked with primary oversight for governance \n",
      "and ESG issues. \n",
      "Talent Development \n",
      "We are committed to the development and growth of our employees  because we believe this is crucial for our long-\n",
      "term success. This includes offering training, mentorship, and other development opportunities to further enhance the \n",
      "talent we have today, but also entails having the right skill sets for our future. \n",
      "To this end, we are working to implement a planned set of actions around increasing formal programs to achieve these \n",
      "goals. We believe that our team of engineers will continue to advance our market and technological leadership. We conduct \n",
      "in-house training for our engineers in certain technical areas. \n",
      "We also fund attendance at continuing education courses, symposia, and participation in professional organizations. \n",
      "Employee Engagement \n",
      "Employee engagement is crucial for the overall health of the organization. In 2023, we conducted a survey of all our \n",
      "employees to assess overall employee engagement. \n",
      "In addition to our efforts to address employee engagement, we a re committed to supporting our employees and \n",
      "creating an engaged workforce by prioritizing the items below: \n",
      "• personal growth through training and development; \n",
      "• recognizing and rewarding our people for their commitment to our values and our organization; \n",
      "• flexible work locations and schedules; and \n",
      "• providing a sense of organizational community by hosting online  as well as in-person events where our people \n",
      "can gather and connect. Table of Contents \n",
      "14 \n",
      "Health and Safety \n",
      "We are committed to ensuring that proper working conditions exi s t  f o r  t h e  s a f e t y  o f  o u r  e m p l o y e e s ,  s u c h  a s  \n",
      "developing, implementing, and improving health and safety syste ms and conditions, and providing appropriate \n",
      "preparation, education, reporting, and controls. \n",
      "Diversity, Equity, and Inclusion \n",
      "We work to ensure that our business practices support diversity and inclusion to build an innovative workforce and to \n",
      "strive toward having our organization reflect the complexion of  o u r  c u s t o m e r s  a n d  s u p p l i e r s .  I n  F e b r u a r y  2 0 2 4 ,  a f t e r  \n",
      "considering the recommendation of the Nominating and Corporate Governance Committee, the Compensation and Human \n",
      "Capital Management Committee approved, and then our Board adopt ed, a Human Rights policy and a Diversity, Equity, \n",
      "and Inclusion (“DEI”) Policy to better implement our core values and relevant standards into our governance structure.  \n",
      "We are strengthening our diversity and inclusion programs with actions around organizational training, on-going \n",
      "education and focus on our company values, and a revitalized recruitment strategy. \n",
      "We value a range of diverse perspectives with reference to our business model and specific needs, including, but not \n",
      "limited to, gender, age, race, lan guage, cultural background, e ducational background, industry experience, professional \n",
      "experience, and veteran and active armed service status or other similar characteristics.  \n",
      "Information about our Executive Officers \n",
      "The following table and notes set forth information about our c urrent executive officers as of the date of this \n",
      "Form 10 - K. \n",
      "   \n",
      "Name      Age     Position\n",
      "J o h n  K .  K i b a r i a n ,  P h . D .  .....  5 9  P r e s i d e n t ,  C h i e f  E x e c u t i v e  O fficer, and Director \n",
      "A d n a n  R a z a  ...............  5 1  E x e c u t i v e  V i c e  P r e s i d e n t ,  F i n a n ce and Chief Financial Officer\n",
      "K i m o n  W .  M i c h a e l s ,  P h . D .  ...  5 7  E x e c u t i v e  V i c e  P r e s i d e n t ,  P r o ducts and Solutions and Director\n",
      "Andrzej Strojw a s ,  P h . D .  .....  7 1  C h i e f  T e c h n o l ogy Officer\n",
      "John K. Kibarian, Ph.D., one of our founders, has served as President since November 1 991 and has served as our \n",
      "Chief Executive Officer since July  2000. Dr. Kibarian has serve d as a director on our Board of Directors since \n",
      "December 1992. Dr. Kibarian received a B.S. in Electrical Engineering, an M.S. E.C.E. and a Ph.D. E.C.E. from Carnegie \n",
      "Mellon University. \n",
      "Adnan Raza, joined in January 2020 as Executive Vice President, Finance, and was appointed Chief Financial Officer \n",
      "effective in March 2020. Prior to joining the Company, Mr. Raza served as an independent strategy consultant for private \n",
      "and public companies from July 2019 to January 2020. Prior to that, Mr. Raza served in various roles at Synaptics Inc., a \n",
      "developer of human interface technologies, including as Senior Vice President of Corporate Development from \n",
      "August 2017 to June 2019 and Vice President of Corporate Development from February 2015 to August 2017. Prior roles \n",
      "include technology investment banking at Goldman, Sachs & Co. a nd UBS Investment Bank, strategic advising at \n",
      "Blackreef Capital, engineering and  marketing at Azanda Network Devices, and engineering at Lucent Technologies. \n",
      "Mr. Raza also served as a Board Member at FIDO Alliance, an alliance of leading technology companies to enhance user \n",
      "security and authentication. Mr . Raza holds an M.B.A. from The Wharton School at the University of Pennsylvania, a \n",
      "M. Eng. in Electrical Engineerin g from Cornell University, and a B.S. in Electrical Engineering from Valparaiso \n",
      "University. \n",
      "Kimon W. Michaels, Ph.D., one of our founders, has served as Vice President, Products and Solutions since July 2010 \n",
      "and was designated as an Executive VP in February 2019. Dr. Mic haels served as Vice President, Design for \n",
      "Manufacturability from June 2007 through June 2010. Prior to th at, Dr. Michaels served as Vice President, Field \n",
      "Operations for Manufacturing Process Solutions from January 200 6 through May 2007, and has served as a director on \n",
      "our Board of Directors since November 1995. From March 1993 thr ough December 2005, he served in various vice \n",
      "presidential capacities. He also served as Chief Financial Offi cer of the Company from November 1995 to July 1998. \n",
      "Dr. Michaels received a B.S. in Electrical Engineering, and M.S . E.C.E. and a Ph.D. E.C.E. from Carnegie Mellon \n",
      "University. Table of Contents \n",
      "15 \n",
      "Andrzej Strojwas, Ph.D. , served as a technical advisor to the Company from our foundin g until 2021 and as chief \n",
      "technologist from 1997 to 2021. He joined the Company as an emp loyee in July 2021 as Vice President and Technical \n",
      "General Manager, and was appointed Chief Technology Officer eff ective December 2021. From October 1982 to \n",
      "July 2021, Dr. Strojwas was the Keithley Professor of Electrica l and Computer Engineering at Carnegie Mellon \n",
      "University. In addition, Dr. Strojwas has held senior technical  positions at Harris Semiconductor Co., AT&T Bell Labs, \n",
      "Texas Instruments, NEC, Hitachi, SEMATECH, and KLA. He holds an  M.S. in Electronic Engineering from Warsaw \n",
      "Technical University and a Ph.D. in Electrical Engineering from Carnegie Mellon University. \n",
      "Available Information \n",
      "We file or furnish various reports, such as registration statements, periodic and current reports, proxy statements and \n",
      "other materials with the SEC. Our Internet website address is w ww.pdf.com. You may obtain, free of charge on our \n",
      "website, copies of our annual reports on Form 10  - K, quarterly reports on Form 10  - Q, current reports on Form 8  - K, and \n",
      "amendments to those reports filed or furnished pursuant to Sect ion 13(a) or 15(d) of the Exchange Act, as soon as \n",
      "reasonably practicable after we electronically file such materi al with, or furnish it to, the SEC. The Company’s website \n",
      "address provided is not intended to function as a hyperlink, an d the information on the Company’s website is not, and \n",
      "should not be considered, part of this Annual Report on Form 10 - K and is not incorporated by reference herein. \n",
      "The SEC maintains a Web site (http://www.sec.gov) that contains reports, proxy and information statements and other \n",
      "information regarding issuers, such as us, that file electronically with the SEC. \n",
      "  Table of Contents \n",
      "16 \n",
      "Item 1A. Risk Factors \n",
      "A description of the risk factors associated with our business is set forth below. Some of these risks are highlighted in \n",
      "the following discussion, and in Management’s Discussion and Analysis of Financial Condition and Results of Operations, \n",
      "Legal Proceedings, and Quantitative and Qualitative Disclosures About Market Risk. The occurrence of any of these risks \n",
      "or additional risks and uncertainties not presently known to us or that we currently believe to be immaterial could materially \n",
      "and adversely affect our business, operating results, financial  condition, and stock price. These risks and uncertainties \n",
      "could cause our actual results to differ materially from the re sults contemplated by the forward-looking statements \n",
      "contained in this report. Investors should carefully consider a ll relevant risks and uncertainties before investing in our \n",
      "common stock. \n",
      "Risk Factors Summary \n",
      "Risks Associated with Our Business \n",
      "• We have invested significant resources into research and develo pment of our DFI system and Exensio software \n",
      "and if we fail to successfully carry out these initiatives on the expected timeline or at all, our business, financial \n",
      "condition, or results of operations could be adversely impacted. \n",
      "• Our sales cycle is lengthy and customers may delay entering into contracts or decide not to adopt our products or \n",
      "solutions after we have performed services or supported their evaluation of our technology, which could result in \n",
      "delays in recognizing revenue and could negatively impact our results of operations in a quarter or result in lower \n",
      "revenue than we expected if a contract is not consummated. \n",
      "• We rely on sole-source providers for certain software as well as for specialized parts for our eProbe hardware and \n",
      "supply-chain delays or disrupti ons could increase our costs or impact our ability to provide complete software \n",
      "solutions or to build additional hardware tools or meet customer expectations or deadlines, which could result in \n",
      "lost sales and lower earnings. \n",
      "• Our fixed-fee services for product or system installations/conf igurations may take longer than budgeted, which \n",
      "could slow our revenue recognition and may result in a lost contract or a claim of breach by our customers, which \n",
      "would negatively affect our financial and operating results. \n",
      "• Our ability to sell our products, systems, and solutions depends in part on the quality of our support and services \n",
      "offerings, and the failure to offer high-quality support and se rvices could negatively affect our sales and results \n",
      "of operations. \n",
      "• Defects in our proprietary technologies, hardware and software tools, and failure to effectively remedy any such \n",
      "defects could decrease our revenue and our competitive market share. \n",
      "• Objectionable disclosure of our customers’ confidential information or our failure to comply with our customers’ \n",
      "security rules, including for those related to SaaS access, AI use, or our on-site access, could result in costly \n",
      "litigation, cause us to lose existing and potential customers, or negatively impact on-going business with existing \n",
      "customers. \n",
      "• We generate a significant portion of our revenues from a limited number of customers, and a large percentage of \n",
      "our revenues from one customer, so defaults or decreased business with, or the loss of, any one of these customers, \n",
      "or pricing pressure, or customer consolidation could significantly reduce our revenues or margins and negatively \n",
      "impact results of operations. \n",
      "• If we do not continuously meet our development milestones of ke y research and development projects or \n",
      "successfully commercialize our DFI system, our future market opportunity and revenues will suffer, and our costs \n",
      "may not be recouped. Table of Contents \n",
      "17 \n",
      "• We are required to comply with governmental export and import r equirements that could subject us to liability \n",
      "and restrict our ability to sell our products and services, which could impair our ability to compete in international \n",
      "markets. \n",
      "• Decreases in wafer volumes at our customers’ manufacturing site s or the volume of ICs that some of our \n",
      "customers are able to sell to their customers would cause our Integrated Yield Ramp revenue to suffer. \n",
      "• We acquired an early-stage battery-solutions provider and have been investing in research and development for \n",
      "new products and services beyond our traditional semiconductor focus, and it could take a long time to reach \n",
      "market acceptance and recoup our costs, if at all. \n",
      "• Our success depends upon our ability to effectively plan and ma nage our resources and restructure our business \n",
      "through rapidly fluctuating economic and market conditions, whi ch actions may have an adverse effect on our \n",
      "financial and operating results. \n",
      "• Our business may be negatively im pacted by social, political, g eopolitical, economic instability, unrest, war, \n",
      "terrorism, or other circumstances that could interrupt our business operations, which could cause us to lose sales \n",
      "or delay or be unable to fulfill contractual commitments, which may have an adverse effect on our financial and \n",
      "operating results. \n",
      "• Global economic conditions or semiconductor market conditions c ould materially adversely impact demand for \n",
      "our products and services, decrease our sales, or delay our sales cycle. \n",
      "• We face challenges in providing a  comprehensive s olution outsid e of the semiconductor industry due to \n",
      "limitations on the business areas in which we can use current t hird-party licensed technology, which may make \n",
      "it prohibitively expensive to sell our solution for applications outside of our traditional industry. \n",
      "Risks Related to Our Technology \n",
      "• If we fail to protect our IP rights, customers or potential com petitors may be able to use our technologies to \n",
      "develop their own solutions, which could weaken our competitive position, reduce our revenues, or increase our \n",
      "costs. \n",
      "• We are exposed to risks related to information technology infrastructure, information management and protection, \n",
      "cybersecurity threats, and cyber incidents. \n",
      "• We and our customers are subject to laws and regulations concer ning data privacy, dat a security, consumer \n",
      "protection, and advertising and these laws and regulations are continually evolving, which exposes us to potential \n",
      "material risks. \n",
      "• Our technologies could infringe the IP rights of others, causing costly litigation and the loss of significant rights. \n",
      "• Competition in the market for data analytics and related systems and services may intensify in the future, which \n",
      "could impede our ability to grow or execute our strategy. \n",
      "• Generative AI and the user other advanced AI technologies for s oftware development may subject us to claims \n",
      "of misappropriation of others’ IP, bugs/errors, and ambiguous ownership of created content. \n",
      "Risks Related to Our Operations \n",
      "• Measurement of our variable consideration sometimes require dat a collection and customers’ use of estimates \n",
      "and are contingent upon customers’ consent and may be later offset if actual data differ from customers’ estimates, \n",
      "which can result in uncertainty and cause quarterly results to fluctuate. Table of Contents \n",
      "18 \n",
      "• We have customers with past due balances and our failure to collect a significant portion of such balances could \n",
      "adversely affect our cash, require us to write-off receivables,  or increase our expense or allowance for credit \n",
      "losses. \n",
      "• We face operational and financial risks associated with international operations that could negatively impact our \n",
      "revenues. \n",
      "• Our business is subject to evolving corporate governance and pu blic disclosure regulations and expectations, \n",
      "including with respect to ESG matters that could expose us to numerous risks. \n",
      "• Provision of certain of our data services relies on installing, configuring, and operating proprietary configuration \n",
      "of hardware and software systems located in third-party facilit ies and errors affecting such facilities’ operations \n",
      "could lead to liability for us, and any objection from such third-party facility or delay in providing us physical or \n",
      "logical access to our systems may adversely impact our ability to timely perform our contract obligations or lead \n",
      "to confidentiality, integrity, availability, security, or privacy controls exceptions. \n",
      "Tax Risks \n",
      " \n",
      "• U.S. federal tax reform and chan ges in foreign tax laws could c hange our tax burden and adversely affect our \n",
      "business and financial condition. \n",
      "• Future events may impact our deferred tax asset position, inclu ding the utilization of net operating loss and tax \n",
      "credit carryforwards. \n",
      "Risks Related to Our Strategic Transactions \n",
      "• We may devote significant time and resources to developing stra tegic relationships but we may not realize the \n",
      "benefits of such efforts, which could have an adverse effect on our business and results of operations. \n",
      "• Our acquisitions create special risks and challenges that could adversely affect our financial results. \n",
      "General Risk Factors \n",
      "• If we are not able to retain, a ttract, motivate, and strategica lly locate talented employees, including some key \n",
      "executives, our business may suffer. \n",
      "• Our earnings per share and other operating results may vary quarter to quarter, which could result in not meeting \n",
      "investors’ expectations and stock price volatility. \n",
      "• Our business could be negatively affected as a result of actions of activist shareholders, and such activism could \n",
      "impact the trading value of our securities. \n",
      "Risks Associated with Our Business \n",
      "We have invested significant resources into research and development of our DFI system and Exensio software and if \n",
      "we fail to successfully carry out these initiatives on the expected timeline or at all, our business, financial condition, or \n",
      "results of operations could be adversely impacted. \n",
      "As part of the evolution of our business, we have made substant ial investments in research and development efforts \n",
      "to develop our DFI system and Exensio software. New competitors, technological advances in the semiconductor industry \n",
      "or other competitive factors may require us to further invest significantly greater resources than we anticipate. If we invest \n",
      "significantly greater resources than anticipated without a corr esponding increase in revenue, our operating results could \n",
      "decline. The technologies and products that we invest in may not result in products that create additional revenue, and we \n"
     ]
    }
   ],
   "source": [
    "print(raw_text)"
   ]
  },
  {
   "cell_type": "markdown",
   "id": "8eb931ef",
   "metadata": {},
   "source": [
    "## Now we will make chunking using RecursiveCharacterSplit"
   ]
  },
  {
   "cell_type": "code",
   "execution_count": 80,
   "id": "8c27dd7e",
   "metadata": {},
   "outputs": [],
   "source": [
    "from langchain.text_splitter import RecursiveCharacterTextSplitter"
   ]
  },
  {
   "cell_type": "code",
   "execution_count": 81,
   "id": "74f8e1ca",
   "metadata": {},
   "outputs": [],
   "source": [
    "text_splitter = RecursiveCharacterTextSplitter(\n",
    "    chunk_size = 500,\n",
    "    chunk_overlap = 100,\n",
    ")"
   ]
  },
  {
   "cell_type": "code",
   "execution_count": 82,
   "id": "1f84da7a",
   "metadata": {},
   "outputs": [
    {
     "data": {
      "text/plain": [
       "['Table of Contents \\n9 \\nunderstand root causes. Our full-reticle CV test chips use a sh ortened process flow to provide a faster \\nlearning cycle for specific process modules. \\n\\uf0a7 Our Scribe CV test chips are inserted directly on customers’ product wafers to collect data about critical \\nlayers. \\n\\uf0a7 Our DirectProbe™ CV test chips are designed to enable ultra-fast yield learning for new product designs \\nby allowing our customers to measure components of actual product layout and identify yield issues.',\n",
       " '• pdFasTest® Electrical Tester – Our proprietary electrical test hardware is optimized to quickly test our CV test \\nchips, enabling fast defect and p arametric characterization of manufacturing processes. As part of the system \\noffering, we provide test programs for each CV test chip that are tuned to the customer’s process. This automated \\nsystem provides parallel functional testing, thus minimizing th e time required to perform millions of electrical',\n",
       " 'measurements to test our CV test chips. We provide services to analyze the unique, differentiated data output of \\nthis tester using the Exensio Characterization software to provide actionable insights to our customers. \\n• Exensio Characterization software – This module, which is designed to integrate seamlessly with the rest of the \\nExensio software, collects the data generated from our CV test products, generating models of the performance',\n",
       " 'effects of process variations on these design building blocks. As part of the system offering, we also offer analysis \\nservices, if the customer elects not to do such analysis itself. \\nCimetrix® Software Products. Our Cimetrix software products enable equipment manufacturers in the semiconductor \\nand electronics industries to provide standard interfaces on their products for efficient equipment communication, control,',\n",
       " 'and data collection. Numerous industry standards have been established for equipment connectivity and control, including \\nthe SEMI (Semiconductor Equipment and Materials International) defined SECS (SEMI Equipment Communication \\nStandard), GEM (Generic Equipment Model), GEM300, and EDA (equipment data acquisition) standards. Our Cimetrix \\nproducts are designed to fully support these industry standards  to enable equipment manufacturers to implement robust,',\n",
       " 'turnkey support for these connectivity and control standards wi thout needing to invest engineering resources to develop \\ntheir own interfaces to these standards. Factories that purchase manufacturing equipment enabled with Cimetrix-supported \\ninterfaces, benefit from consist ent and robust implementations of industry standards, enabling faster and more efficient \\nimplementation of smart manufacturing initiatives that depend on the collection and analysis of manufacturing and product',\n",
       " 'data. Cimetrix products are sold via perpetual licenses and typ ically sold as part of a softw are development kit (“SDK”) \\nthat helps equipment manufacturers implement them quickly. We c harge a one-time fee per equipment product type for \\nthe SDK license and a one-time fee for each piece of equipment shipped that includes the Cimetrix runtime license. \\n• Equipment Factory Connectivity – Our products for equipment factory connectivity primarily inclu de the \\nfollowing:',\n",
       " 'following: \\n\\uf0a7 Cimetrix CIMConnect™ is a SEMI SECS/GEM interface to the factory host for automated control and \\ndata collection. The Cimetrix CIMConnect module supports multip le-host interfaces simultaneously, \\nwhich allows customers to support legacy, custom, and GEM interfaces. Cimetrix CIMConnect is used \\nin semiconductor wafer fabrication, semiconductor back-end (test, assembly, and packaging), PV, HB-',\n",
       " 'in semiconductor wafer fabrication, semiconductor back-end (test, assembly, and packaging), PV, HB-\\nLED, disk drive, flat panel displays, printed circuit boards an d other electronics manufacturing. In \\naddition to enabling the implementation of the SEMI SECS/GEM st andards E4, E5, E30, E37, E172, \\nand E173, Cimetrix CIMConnect also supports SEMI PV2 (PVECI), A3 (PCBECI), and HB4 (HB-LED \\nECI) standards.',\n",
       " 'ECI) standards. \\n\\uf0a7 Cimetrix CIM300™ is a GEM interface for 300mm equipment using SEMI standards, including E39, \\nE40, E87, E90, E94, E116, E148, and E157. These SEMI standards allow for the full automation \\nrequired in manufacturing 300mm wafers. Cimetrix CIM300 manages  the interdependencies between \\nthe standards and simp lifies complex scenarios for easy impleme ntation of the standards. These',\n",
       " 'the standards and simp lifies complex scenarios for easy impleme ntation of the standards. These \\nGEM300 standards are required for full automation in manufactur ing of 300mm wafers. Cimetrix Table of Contents \\n10 \\nCIM300 works with Cimetrix CIMConnect to implement the GEM300 a nd the original GEM suite of \\nstandards. \\n\\uf0a7 Cimetrix CIMPortal™ Plus is an interface for EDA, also known as Interface A. The EDA standards are',\n",
       " 'E120, E125, E132, E134, E138, E 147, and E164. Cimetrix CIMPorta l Plus implements the EDA \\nstandards in a flexible architecture that collects data from multiple sources and routes the data to multiple \\nclients simultaneously. Factories can use the data gathered through EDA interfaces for FDC, run-to-run \\nadvanced process control, equipment health monitoring, chamber/ tool matching, predictive',\n",
       " 'advanced process control, equipment health monitoring, chamber/ tool matching, predictive \\nmaintenance, virtual metrology, diagnostics, and many other equipment-related analytical applications. \\n• Equipment Factory Connectivity Testing – We provide the following products for testing the interfaces developed \\nusing our equipment factory connectivity products: Cimetrix Equ ipmentTest™, for testing and validating',\n",
       " 'compliance with the GEM and GEM300 standards, Cimetrix EDATester™, for testing and validating compliance \\nwith the EDA/Interface A standard s, and performan ce testing of the interface, and Cimetrix ECCE Plus™ for \\nquick testing of the EDA/Interface A interface. \\n• Equipment Control – Our equipment control product is the Cimetrix CIMControlFramework™ (“Cimetrix CCF”) \\nsoftware, which includes components for supervisory control, ma terial handling, operator interface, platform',\n",
       " 'control, and factory automation requirements, to allow equipmen t manufacturers to meet the requirements of \\nfabrication facilities. Developer s can leverage framework compo nents through configuration and extension or \\ncustomize the framework when unique requirements exist. Cimetrix CCF is designed to allow data generated at \\nany point on the equipment to be quickly and easily accessed by other modules or external applications. Cimetrix',\n",
       " 'CIMConnect, Cimetrix CIM300, and Cimetrix CIMPortal Plus are in tegrated with Cimetrix CCF to support the \\nSEMI GEM, GEM300, and EDA/Interface A standards. \\nServices \\nOur services are almost always sold together with, or to support, our products and include the following: \\nSoftware-as-a-Service – We provide services to make our Exensio software available to our customers via the Internet,',\n",
       " 'generally hosted by third-party providers. SaaS is considered part of cloud computing since the software is hosted on the \\nInternet, or the “cloud.” Since our SaaS applications are accessed from a remote server rather than installed on individual \\nmachines, it is easier to maintain. For example, when the remot e software is updated, the customer’s interface is also \\nupdated for all users. Cloud computing is designed to eliminate incompatibilities between different software versions and',\n",
       " 'allow us to make incremental updates without requiring software downloads. Additionally, our customers can save data to \\na central online location, which is designed to allow increased  project collaboration. As part of these services, we also \\ntypically provide hosted management services for the software and the customer’s data stored in our cloud. These services \\ninclude environment set-up and configuration, system health mon itoring, data integration maintenance, integration',\n",
       " 'monitoring, system updates, security, and data upload/download, and license administration. \\nSoftware Related Services  – We provide software maintenance and support (“M&S”), data ma nagement services, \\nvarious value-added services (“VAS”) to install, configure, or create analysis templates, and other professional services to \\nachieve customers’ specific outcomes using our software. We call this last type of services our solutions offering and, in',\n",
       " 'these cases, we tailor the use of  one or more Exensio products to achieve a desired result. For example, our AIM \\nYieldAware™ FDC solution offering is designed to identify the process control variables that have the greatest impact on \\nproduct yield through professional services that analyze the da ta from both Exensio Proce ss Control and elements of \\nExensio Manufacturing Analytics and make recommendations for th e customer to implement. VAS are provided by our',\n",
       " 'professional service personnel with expertise that enhances and complements the engineering teams at our customers. For \\nexample, VAS includes our data cleaning and monitoring services. One requirement of big data analytics is to have clean, \\nharmonized data to analyze. This service offering outsources th e data wrangling and management effort to free the \\ncustomer to focus their efforts on analysis, which has a greater ROI to the company than data management.',\n",
       " 'Characterization Services  – These services are designed to characterize key product and/ or process elements, \\nprimarily into CV test structures  or DFI on-chip measurement in struments, and typically do not include performance Table of Contents \\n11 \\nincentives based on the customers’ yield achievement. We provid e these services, typically together with all elements of \\nour CV system, to foundry customers in connection with new proc ess technology development and/or yield ramp. In',\n",
       " 'Characterization engagements, we generally provide the analysis of our CV test chips and provide summary findings and \\nrecommendations to the customer. Characterization engagements can include DFI systems. \\nCustomers \\nOur existing customers include f oundries, IDMs, fabless semicon ductor design companies, OSATs, equipment \\nmanufacturers, EMS, and ODMs, including those that embed and di stribute our Assembly Operations modules in their',\n",
       " 'equipment. Our semiconductor customers’ targeted product segmen ts vary significantly, including microprocessors, \\nmemory, graphics, image sensor solutions, and communications. W e believe that the adoption of our solutions by such \\ncompanies for usage in a wide range of products validates the a pplication of our solutions to the broader semiconductor \\nmarket. We often have multiple contracts with a single customer or customer group, with no interdependent performance',\n",
       " 'obligations. In general, our customer contracts are non-cancellable. \\nOne customer accounted for 35% of  our revenues for 2023, two cu stomers accounted for 41% of our revenues for \\n2022 and two customers accounted for 27% of our revenues for 2021. No other customers accounted for 10% or more of \\nour revenues in 2023, 2022 and 2021. Also, two customers accoun ted for 50% of our gross accounts receivable as of',\n",
       " 'December 31, 2023, and three cust omers accounted for 53% of our  gross accounts receivable as of December 31, 2022. \\nWe generally do not require collateral or other security to support accounts receivable. See the discussion in “Risk Factors” \\nunder Item 1A for more information about risks associated with customer concentration and contractual provisions. \\nInternational revenues accounted for approximately 44%, 50% and  55% of our total revenues for 2023, 2022 and',\n",
       " '2021, respectively. We base these calculations on the geographi c location of where the work is performed or where the \\ncustomer is located. Revenues from customers by geographic area  based on the location of the customers’ work sites for \\nthe last three fiscal years can be found in Note 11, “Customer and Geographic Information” to the consolidated financial \\nstatements. Additional discussion regarding the risks associated with international operations can be found under Item 1A,',\n",
       " '“Risk Factors”. \\nSee our “Notes to Consolidated F inancial Statements”, included under Part II, Item 8. “Financial Statements and \\nSupplementary Data” for additional geographic information. \\nSales and Marketing \\nOur sales strategy is primarily to pursue targeted accounts through a combination of our direct sales force, our service \\nteams, and strategic alliances. After we are engaged by a customer and early in the services process, our engineers seek to',\n",
       " 'establish relationships in the organization and gain an underst anding of our customers’ business issues. Our direct sales \\nand service teams combine their efforts to deepen our customer relationships by expanding our penetration across \\ncustomers’ products, processes, and technologies. This close wo rking relationship with each customer has the added \\nbenefit of helping us to identify new product areas and technol ogies in which we should next focus our research and',\n",
       " 'development efforts. From time-to-time, we use sales representa tives/agents in various locations to augment direct sales \\nin certain territories.  \\nWe expect to continue to establish strategic alliances with pro cess licensors, vendors in the electronic design \\nautomation software, capital equipment for IC production, and test silicon IP and mask-making software segments to create',\n",
       " 'and take advantage of sales channel and co-marketing opportunit ies. Additionally, we expect to form relationships with \\nkey value chain participants, including foundries and OSATs, to  provide services and value across the manufacturing \\nsupply chain. \\nResearch and Development \\nOur research and development focuses on developing and introduc ing new proprietary technologies for our',\n",
       " 'comprehensive platform, including our Exensio software, Cimetri x connectivity and control products, and DFI and CV \\nsystems, as well as other software products and enhancements to our existing solutions, such as field applications for DFI Table of Contents \\n12 \\nand CV and new applications targeted to inter-operate with stra tegic partner products. We use a rapid-prototyping \\nparadigm in the context of the customer engagement to achieve t hese goals. We have made, and expect to continue to',\n",
       " 'make, substantial investments in research and development. The complexity of our technologies requires expertise in \\nstandards, physical IC design and layout, transistor design and semiconductor physics, semiconductor process integration, \\nnumerical algorithms, e-beam tech nology, hardware, statistics a nd software development. We believe that our team of \\nengineers will continue to advance our market and technological  leadership. We conduct in-house training for our',\n",
       " 'engineers in certain technical ar eas. Our training also extends  to focusing on ways to enhance customer service skills. \\nAlthough it fluctuates, we can have up to one quarter of our research and development engineers assigned to one or more \\nprojects, partnered with solution services engineers, in a deliberate strategy to provide direct feedback between technology \\ndevelopment and customer needs. We also utilize a variety of skilled independent contractors for specialized development.',\n",
       " 'Competition \\nThe semiconductor industry is highly competitive and driven by rapidly changing design and process technologies, \\nevolving standards, short product life cycles, and decreasing prices. We expect market competition to continue to develop \\nand increase as the market for data and analytics continues to evolve. We believe IC companies benefit from a combination \\nof big data management infrastructure, AI/ML-based analytics en gines, and products that generate and collect',\n",
       " 'differentiated data that enrich the analytics process. Currentl y, we are a leading provider o f comprehensive commercial \\nhardware, software and IP solutions for optimizing and improvin g design, manufacturing and test operations processes \\nthrough the application of differentiated data and advanced analytics. As a result, we face competition from three primary \\ngroups: internal customer development or design programs, equipment solutions providers, and providers of analytical and',\n",
       " 'design software. We face indirect competition from internal groups at IC companies that offer tools with varying degrees \\nof optimization to accelerate pr ocess-design integration or tes t operations. Some providers of semiconductor \\nmanufacturing software, inspection equipment, electronic design  automation, or design IP may seek to broaden their \\nproduct offerings and compete with us. In addition, companies providing general ML and analytics software may focus on',\n",
       " 'semiconductor companies and compete with us. In each of the market segments we compete in, we face competition from \\nestablished and potential competitors, some of whom may have gr eater financial, research, engineering, manufacturing \\nand marketing resources than we have. \\nWe currently face indirect competition from the internal groups at IC companies and direct competition from providers',\n",
       " 'of (i) yield management and/or prediction systems, such as KLA Corporation (“KLA”), Siemens AG (“Siemens”), Onto \\nInnovation, Inc. (“Onto”), and Synopsys, Inc. (“Synopsys”); (ii) semiconductor manufacturing software, such as Applied \\nMaterials, Inc (“Applied Materials”), Synopsys, Invantest, Inc. , Emerson Electric Co., Onto,  and Siemens; (iii) inline \\ninspection, metrology and electrical test equipment providers, such as ASML Holding N.V. (“ASML”), Applied Materials,',\n",
       " 'KLA, and Keysight Technologies, Inc.; and, (iv) connectivity software or integration products/services supporting factory \\nequipment connectivity or control needs of customers, such as P E E R  G r o u p ,  I n c . ,  K o n t r o n  A I S ,  G m b H ,  Y o k o g a w a  \\nElectric Corp., Advantest, and Kornic Automation Co. Ltd. There  may be other providers of competitive commercial',\n",
       " 'solutions of which we are not aware, and we may compete with th e products or offerings of these named companies or \\nadditional companies if we expand our offerings through acquisitions or development. For example, since our acquisition \\nof Cimetrix in late 2020, we now face competition in the produc ts/services supporting the connectivity, control and \\nintegration of factory equipment. The demand for solutions that address the need for better integration between the silicon',\n",
       " 'design and manufacturing processes may encourage direct competitors to enter our market. For example, in 2020, two of \\nour competitors were acquired by larger entities, Synopsys acqu ired Qualtera and NI, Inc. acquired Optimal+, and each \\nhas increased marketing or pricing competition with us. For example, in 2023, Emerson Electric Co. acquired NI, Inc. This \\ncompetition in our market may intensify in the future, which could lead to increased pricing pressure, negatively impacting',\n",
       " 'our revenues, and slow our ability to grow or execute our strategy. Also, our current and potential customers may choose \\nto develop their own solutions internally, particularly if we are slow in deploying our solutions or improving them to meet \\nmarket needs. These and other competitors may be able to operat e  w i t h  a  l o w e r  c o s t  s t r u c t u r e  t h a n  o u r  e n g i n e e r i n g',\n",
       " 'organization, which would give any such competitor’s products a competitive advantage over our solutions. \\nWe believe that our solutions compare favorably with respect to  competition because we have demonstrated results \\nand reputation, strong core technology, ability to create innovative technology, and ability to implement solutions for new \\ntechnology and product generations. See the discussions in “Risk Factors” under Item 1A for more information about risks',\n",
       " 'associated with our competition. Table of Contents \\n13 \\nHuman Capital Management \\nWe believe that our future success will depend, in part, on our  continued ability to hire and retain qualified \\nmanagement, sales, and technical employees. Consequently, we se ek to engage in sound ethical and organizational \\ngovernance, promote business et hics and integrity, and embrace equality, diversity, and inclusion throughout our \\norganization.',\n",
       " 'organization. \\nAs of December 31, 2023, we had 493 employees worldwide, includ ing 171 field application engineers and \\nconsultants, 155 in research and development, 106 in sales and marketing, and 61 in general and administrative functions. \\nOf these employees, 285 are located in the United States, 172 in Asia, and 36 in Europe. \\nNone of our employees are represented by a labor union. Our employees in France and Italy are subject to collective \\nbargaining agreements in those countries.',\n",
       " 'bargaining agreements in those countries. \\nOur commitment to human capital management is embedded in our governance structure \\nAt the Board level, our Compensation and Human Capital Manageme nt Committee is tasked with oversight of the \\ndevelopment, implementation and effectiveness of our policies a nd strategies relating to human capital management, \\nincluding strategies regarding recruiting, selection, career de velopment and progression, and diversity and employment',\n",
       " 'practices. Further, our Nominating and Corporate Governance Committee is tasked with primary oversight for governance \\nand ESG issues. \\nTalent Development \\nWe are committed to the development and growth of our employees  because we believe this is crucial for our long-\\nterm success. This includes offering training, mentorship, and other development opportunities to further enhance the \\ntalent we have today, but also entails having the right skill sets for our future.',\n",
       " 'talent we have today, but also entails having the right skill sets for our future. \\nTo this end, we are working to implement a planned set of actions around increasing formal programs to achieve these \\ngoals. We believe that our team of engineers will continue to advance our market and technological leadership. We conduct \\nin-house training for our engineers in certain technical areas.',\n",
       " 'in-house training for our engineers in certain technical areas. \\nWe also fund attendance at continuing education courses, symposia, and participation in professional organizations. \\nEmployee Engagement \\nEmployee engagement is crucial for the overall health of the organization. In 2023, we conducted a survey of all our \\nemployees to assess overall employee engagement. \\nIn addition to our efforts to address employee engagement, we a re committed to supporting our employees and',\n",
       " 'creating an engaged workforce by prioritizing the items below: \\n• personal growth through training and development; \\n• recognizing and rewarding our people for their commitment to our values and our organization; \\n• flexible work locations and schedules; and \\n• providing a sense of organizational community by hosting online  as well as in-person events where our people \\ncan gather and connect. Table of Contents \\n14 \\nHealth and Safety',\n",
       " 'can gather and connect. Table of Contents \\n14 \\nHealth and Safety \\nWe are committed to ensuring that proper working conditions exi s t  f o r  t h e  s a f e t y  o f  o u r  e m p l o y e e s ,  s u c h  a s  \\ndeveloping, implementing, and improving health and safety syste ms and conditions, and providing appropriate \\npreparation, education, reporting, and controls. \\nDiversity, Equity, and Inclusion',\n",
       " 'preparation, education, reporting, and controls. \\nDiversity, Equity, and Inclusion \\nWe work to ensure that our business practices support diversity and inclusion to build an innovative workforce and to \\nstrive toward having our organization reflect the complexion of  o u r  c u s t o m e r s  a n d  s u p p l i e r s .  I n  F e b r u a r y  2 0 2 4 ,  a f t e r  \\nconsidering the recommendation of the Nominating and Corporate Governance Committee, the Compensation and Human',\n",
       " 'Capital Management Committee approved, and then our Board adopt ed, a Human Rights policy and a Diversity, Equity, \\nand Inclusion (“DEI”) Policy to better implement our core values and relevant standards into our governance structure.  \\nWe are strengthening our diversity and inclusion programs with actions around organizational training, on-going \\neducation and focus on our company values, and a revitalized recruitment strategy.',\n",
       " 'education and focus on our company values, and a revitalized recruitment strategy. \\nWe value a range of diverse perspectives with reference to our business model and specific needs, including, but not \\nlimited to, gender, age, race, lan guage, cultural background, e ducational background, industry experience, professional \\nexperience, and veteran and active armed service status or other similar characteristics.  \\nInformation about our Executive Officers',\n",
       " 'Information about our Executive Officers \\nThe following table and notes set forth information about our c urrent executive officers as of the date of this \\nForm 10 - K. \\n   \\nName      Age     Position\\nJ o h n  K .  K i b a r i a n ,  P h . D .  .....  5 9  P r e s i d e n t ,  C h i e f  E x e c u t i v e  O fficer, and Director \\nA d n a n  R a z a  ...............  5 1  E x e c u t i v e  V i c e  P r e s i d e n t ,  F i n a n ce and Chief Financial Officer',\n",
       " 'K i m o n  W .  M i c h a e l s ,  P h . D .  ...  5 7  E x e c u t i v e  V i c e  P r e s i d e n t ,  P r o ducts and Solutions and Director\\nAndrzej Strojw a s ,  P h . D .  .....  7 1  C h i e f  T e c h n o l ogy Officer\\nJohn K. Kibarian, Ph.D., one of our founders, has served as President since November 1 991 and has served as our \\nChief Executive Officer since July  2000. Dr. Kibarian has serve d as a director on our Board of Directors since',\n",
       " 'December 1992. Dr. Kibarian received a B.S. in Electrical Engineering, an M.S. E.C.E. and a Ph.D. E.C.E. from Carnegie \\nMellon University. \\nAdnan Raza, joined in January 2020 as Executive Vice President, Finance, and was appointed Chief Financial Officer \\neffective in March 2020. Prior to joining the Company, Mr. Raza served as an independent strategy consultant for private',\n",
       " 'and public companies from July 2019 to January 2020. Prior to that, Mr. Raza served in various roles at Synaptics Inc., a \\ndeveloper of human interface technologies, including as Senior Vice President of Corporate Development from \\nAugust 2017 to June 2019 and Vice President of Corporate Development from February 2015 to August 2017. Prior roles \\ninclude technology investment banking at Goldman, Sachs & Co. a nd UBS Investment Bank, strategic advising at',\n",
       " 'Blackreef Capital, engineering and  marketing at Azanda Network Devices, and engineering at Lucent Technologies. \\nMr. Raza also served as a Board Member at FIDO Alliance, an alliance of leading technology companies to enhance user \\nsecurity and authentication. Mr . Raza holds an M.B.A. from The Wharton School at the University of Pennsylvania, a \\nM. Eng. in Electrical Engineerin g from Cornell University, and a B.S. in Electrical Engineering from Valparaiso \\nUniversity.',\n",
       " 'University. \\nKimon W. Michaels, Ph.D., one of our founders, has served as Vice President, Products and Solutions since July 2010 \\nand was designated as an Executive VP in February 2019. Dr. Mic haels served as Vice President, Design for \\nManufacturability from June 2007 through June 2010. Prior to th at, Dr. Michaels served as Vice President, Field \\nOperations for Manufacturing Process Solutions from January 200 6 through May 2007, and has served as a director on',\n",
       " 'our Board of Directors since November 1995. From March 1993 thr ough December 2005, he served in various vice \\npresidential capacities. He also served as Chief Financial Offi cer of the Company from November 1995 to July 1998. \\nDr. Michaels received a B.S. in Electrical Engineering, and M.S . E.C.E. and a Ph.D. E.C.E. from Carnegie Mellon \\nUniversity. Table of Contents \\n15 \\nAndrzej Strojwas, Ph.D. , served as a technical advisor to the Company from our foundin g until 2021 and as chief',\n",
       " 'technologist from 1997 to 2021. He joined the Company as an emp loyee in July 2021 as Vice President and Technical \\nGeneral Manager, and was appointed Chief Technology Officer eff ective December 2021. From October 1982 to \\nJuly 2021, Dr. Strojwas was the Keithley Professor of Electrica l and Computer Engineering at Carnegie Mellon \\nUniversity. In addition, Dr. Strojwas has held senior technical  positions at Harris Semiconductor Co., AT&T Bell Labs,',\n",
       " 'Texas Instruments, NEC, Hitachi, SEMATECH, and KLA. He holds an  M.S. in Electronic Engineering from Warsaw \\nTechnical University and a Ph.D. in Electrical Engineering from Carnegie Mellon University. \\nAvailable Information \\nWe file or furnish various reports, such as registration statements, periodic and current reports, proxy statements and \\nother materials with the SEC. Our Internet website address is w ww.pdf.com. You may obtain, free of charge on our',\n",
       " 'website, copies of our annual reports on Form 10  - K, quarterly reports on Form 10  - Q, current reports on Form 8  - K, and \\namendments to those reports filed or furnished pursuant to Sect ion 13(a) or 15(d) of the Exchange Act, as soon as \\nreasonably practicable after we electronically file such materi al with, or furnish it to, the SEC. The Company’s website \\naddress provided is not intended to function as a hyperlink, an d the information on the Company’s website is not, and',\n",
       " 'should not be considered, part of this Annual Report on Form 10 - K and is not incorporated by reference herein. \\nThe SEC maintains a Web site (http://www.sec.gov) that contains reports, proxy and information statements and other \\ninformation regarding issuers, such as us, that file electronically with the SEC. \\n  Table of Contents \\n16 \\nItem 1A. Risk Factors \\nA description of the risk factors associated with our business is set forth below. Some of these risks are highlighted in',\n",
       " 'the following discussion, and in Management’s Discussion and Analysis of Financial Condition and Results of Operations, \\nLegal Proceedings, and Quantitative and Qualitative Disclosures About Market Risk. The occurrence of any of these risks \\nor additional risks and uncertainties not presently known to us or that we currently believe to be immaterial could materially \\nand adversely affect our business, operating results, financial  condition, and stock price. These risks and uncertainties',\n",
       " 'could cause our actual results to differ materially from the re sults contemplated by the forward-looking statements \\ncontained in this report. Investors should carefully consider a ll relevant risks and uncertainties before investing in our \\ncommon stock. \\nRisk Factors Summary \\nRisks Associated with Our Business \\n• We have invested significant resources into research and develo pment of our DFI system and Exensio software',\n",
       " 'and if we fail to successfully carry out these initiatives on the expected timeline or at all, our business, financial \\ncondition, or results of operations could be adversely impacted. \\n• Our sales cycle is lengthy and customers may delay entering into contracts or decide not to adopt our products or \\nsolutions after we have performed services or supported their evaluation of our technology, which could result in',\n",
       " 'delays in recognizing revenue and could negatively impact our results of operations in a quarter or result in lower \\nrevenue than we expected if a contract is not consummated. \\n• We rely on sole-source providers for certain software as well as for specialized parts for our eProbe hardware and \\nsupply-chain delays or disrupti ons could increase our costs or impact our ability to provide complete software',\n",
       " 'solutions or to build additional hardware tools or meet customer expectations or deadlines, which could result in \\nlost sales and lower earnings. \\n• Our fixed-fee services for product or system installations/conf igurations may take longer than budgeted, which \\ncould slow our revenue recognition and may result in a lost contract or a claim of breach by our customers, which \\nwould negatively affect our financial and operating results.',\n",
       " 'would negatively affect our financial and operating results. \\n• Our ability to sell our products, systems, and solutions depends in part on the quality of our support and services \\nofferings, and the failure to offer high-quality support and se rvices could negatively affect our sales and results \\nof operations. \\n• Defects in our proprietary technologies, hardware and software tools, and failure to effectively remedy any such',\n",
       " 'defects could decrease our revenue and our competitive market share. \\n• Objectionable disclosure of our customers’ confidential information or our failure to comply with our customers’ \\nsecurity rules, including for those related to SaaS access, AI use, or our on-site access, could result in costly \\nlitigation, cause us to lose existing and potential customers, or negatively impact on-going business with existing \\ncustomers.',\n",
       " 'customers. \\n• We generate a significant portion of our revenues from a limited number of customers, and a large percentage of \\nour revenues from one customer, so defaults or decreased business with, or the loss of, any one of these customers, \\nor pricing pressure, or customer consolidation could significantly reduce our revenues or margins and negatively \\nimpact results of operations. \\n• If we do not continuously meet our development milestones of ke y research and development projects or',\n",
       " 'successfully commercialize our DFI system, our future market opportunity and revenues will suffer, and our costs \\nmay not be recouped. Table of Contents \\n17 \\n• We are required to comply with governmental export and import r equirements that could subject us to liability \\nand restrict our ability to sell our products and services, which could impair our ability to compete in international \\nmarkets.',\n",
       " 'markets. \\n• Decreases in wafer volumes at our customers’ manufacturing site s or the volume of ICs that some of our \\ncustomers are able to sell to their customers would cause our Integrated Yield Ramp revenue to suffer. \\n• We acquired an early-stage battery-solutions provider and have been investing in research and development for \\nnew products and services beyond our traditional semiconductor focus, and it could take a long time to reach \\nmarket acceptance and recoup our costs, if at all.',\n",
       " 'market acceptance and recoup our costs, if at all. \\n• Our success depends upon our ability to effectively plan and ma nage our resources and restructure our business \\nthrough rapidly fluctuating economic and market conditions, whi ch actions may have an adverse effect on our \\nfinancial and operating results. \\n• Our business may be negatively im pacted by social, political, g eopolitical, economic instability, unrest, war,',\n",
       " 'terrorism, or other circumstances that could interrupt our business operations, which could cause us to lose sales \\nor delay or be unable to fulfill contractual commitments, which may have an adverse effect on our financial and \\noperating results. \\n• Global economic conditions or semiconductor market conditions c ould materially adversely impact demand for \\nour products and services, decrease our sales, or delay our sales cycle.',\n",
       " 'our products and services, decrease our sales, or delay our sales cycle. \\n• We face challenges in providing a  comprehensive s olution outsid e of the semiconductor industry due to \\nlimitations on the business areas in which we can use current t hird-party licensed technology, which may make \\nit prohibitively expensive to sell our solution for applications outside of our traditional industry. \\nRisks Related to Our Technology',\n",
       " 'Risks Related to Our Technology \\n• If we fail to protect our IP rights, customers or potential com petitors may be able to use our technologies to \\ndevelop their own solutions, which could weaken our competitive position, reduce our revenues, or increase our \\ncosts. \\n• We are exposed to risks related to information technology infrastructure, information management and protection, \\ncybersecurity threats, and cyber incidents.',\n",
       " 'cybersecurity threats, and cyber incidents. \\n• We and our customers are subject to laws and regulations concer ning data privacy, dat a security, consumer \\nprotection, and advertising and these laws and regulations are continually evolving, which exposes us to potential \\nmaterial risks. \\n• Our technologies could infringe the IP rights of others, causing costly litigation and the loss of significant rights.',\n",
       " '• Competition in the market for data analytics and related systems and services may intensify in the future, which \\ncould impede our ability to grow or execute our strategy. \\n• Generative AI and the user other advanced AI technologies for s oftware development may subject us to claims \\nof misappropriation of others’ IP, bugs/errors, and ambiguous ownership of created content. \\nRisks Related to Our Operations',\n",
       " 'Risks Related to Our Operations \\n• Measurement of our variable consideration sometimes require dat a collection and customers’ use of estimates \\nand are contingent upon customers’ consent and may be later offset if actual data differ from customers’ estimates, \\nwhich can result in uncertainty and cause quarterly results to fluctuate. Table of Contents \\n18 \\n• We have customers with past due balances and our failure to collect a significant portion of such balances could',\n",
       " 'adversely affect our cash, require us to write-off receivables,  or increase our expense or allowance for credit \\nlosses. \\n• We face operational and financial risks associated with international operations that could negatively impact our \\nrevenues. \\n• Our business is subject to evolving corporate governance and pu blic disclosure regulations and expectations, \\nincluding with respect to ESG matters that could expose us to numerous risks.',\n",
       " 'including with respect to ESG matters that could expose us to numerous risks. \\n• Provision of certain of our data services relies on installing, configuring, and operating proprietary configuration \\nof hardware and software systems located in third-party facilit ies and errors affecting such facilities’ operations \\ncould lead to liability for us, and any objection from such third-party facility or delay in providing us physical or',\n",
       " 'logical access to our systems may adversely impact our ability to timely perform our contract obligations or lead \\nto confidentiality, integrity, availability, security, or privacy controls exceptions. \\nTax Risks \\n \\n• U.S. federal tax reform and chan ges in foreign tax laws could c hange our tax burden and adversely affect our \\nbusiness and financial condition. \\n• Future events may impact our deferred tax asset position, inclu ding the utilization of net operating loss and tax',\n",
       " 'credit carryforwards. \\nRisks Related to Our Strategic Transactions \\n• We may devote significant time and resources to developing stra tegic relationships but we may not realize the \\nbenefits of such efforts, which could have an adverse effect on our business and results of operations. \\n• Our acquisitions create special risks and challenges that could adversely affect our financial results. \\nGeneral Risk Factors',\n",
       " 'General Risk Factors \\n• If we are not able to retain, a ttract, motivate, and strategica lly locate talented employees, including some key \\nexecutives, our business may suffer. \\n• Our earnings per share and other operating results may vary quarter to quarter, which could result in not meeting \\ninvestors’ expectations and stock price volatility. \\n• Our business could be negatively affected as a result of actions of activist shareholders, and such activism could',\n",
       " 'impact the trading value of our securities. \\nRisks Associated with Our Business \\nWe have invested significant resources into research and development of our DFI system and Exensio software and if \\nwe fail to successfully carry out these initiatives on the expected timeline or at all, our business, financial condition, or \\nresults of operations could be adversely impacted. \\nAs part of the evolution of our business, we have made substant ial investments in research and development efforts',\n",
       " 'to develop our DFI system and Exensio software. New competitors, technological advances in the semiconductor industry \\nor other competitive factors may require us to further invest significantly greater resources than we anticipate. If we invest \\nsignificantly greater resources than anticipated without a corr esponding increase in revenue, our operating results could \\ndecline. The technologies and products that we invest in may not result in products that create additional revenue, and we']"
      ]
     },
     "execution_count": 82,
     "metadata": {},
     "output_type": "execute_result"
    }
   ],
   "source": [
    "text_splitter.split_text(raw_text)"
   ]
  },
  {
   "cell_type": "code",
   "execution_count": 83,
   "id": "84bf04dd",
   "metadata": {},
   "outputs": [],
   "source": [
    "texts = text_splitter.split_text(raw_text)"
   ]
  },
  {
   "cell_type": "code",
   "execution_count": 84,
   "id": "0b3112e6",
   "metadata": {},
   "outputs": [
    {
     "data": {
      "text/plain": [
       "90"
      ]
     },
     "execution_count": 84,
     "metadata": {},
     "output_type": "execute_result"
    }
   ],
   "source": [
    "len(texts)"
   ]
  },
  {
   "cell_type": "code",
   "execution_count": 85,
   "id": "1b755f19",
   "metadata": {},
   "outputs": [],
   "source": [
    "from langchain_core.documents import Document"
   ]
  },
  {
   "cell_type": "code",
   "execution_count": 86,
   "id": "508b3217",
   "metadata": {},
   "outputs": [],
   "source": [
    "# conversion into pagecontent/document format\n",
    "docs = []\n",
    "for i in range(len(texts)):\n",
    "    doc = Document(page_content=texts[i])\n",
    "    docs.append(doc)"
   ]
  },
  {
   "cell_type": "markdown",
   "id": "8715efc7",
   "metadata": {},
   "source": [
    "#### data has to be passed into vectorstore in this specific format"
   ]
  },
  {
   "cell_type": "code",
   "execution_count": 87,
   "id": "908f8125",
   "metadata": {},
   "outputs": [
    {
     "data": {
      "text/plain": [
       "[Document(page_content='Table of Contents \\n9 \\nunderstand root causes. Our full-reticle CV test chips use a sh ortened process flow to provide a faster \\nlearning cycle for specific process modules. \\n\\uf0a7 Our Scribe CV test chips are inserted directly on customers’ product wafers to collect data about critical \\nlayers. \\n\\uf0a7 Our DirectProbe™ CV test chips are designed to enable ultra-fast yield learning for new product designs \\nby allowing our customers to measure components of actual product layout and identify yield issues.'),\n",
       " Document(page_content='• pdFasTest® Electrical Tester – Our proprietary electrical test hardware is optimized to quickly test our CV test \\nchips, enabling fast defect and p arametric characterization of manufacturing processes. As part of the system \\noffering, we provide test programs for each CV test chip that are tuned to the customer’s process. This automated \\nsystem provides parallel functional testing, thus minimizing th e time required to perform millions of electrical'),\n",
       " Document(page_content='measurements to test our CV test chips. We provide services to analyze the unique, differentiated data output of \\nthis tester using the Exensio Characterization software to provide actionable insights to our customers. \\n• Exensio Characterization software – This module, which is designed to integrate seamlessly with the rest of the \\nExensio software, collects the data generated from our CV test products, generating models of the performance'),\n",
       " Document(page_content='effects of process variations on these design building blocks. As part of the system offering, we also offer analysis \\nservices, if the customer elects not to do such analysis itself. \\nCimetrix® Software Products. Our Cimetrix software products enable equipment manufacturers in the semiconductor \\nand electronics industries to provide standard interfaces on their products for efficient equipment communication, control,'),\n",
       " Document(page_content='and data collection. Numerous industry standards have been established for equipment connectivity and control, including \\nthe SEMI (Semiconductor Equipment and Materials International) defined SECS (SEMI Equipment Communication \\nStandard), GEM (Generic Equipment Model), GEM300, and EDA (equipment data acquisition) standards. Our Cimetrix \\nproducts are designed to fully support these industry standards  to enable equipment manufacturers to implement robust,'),\n",
       " Document(page_content='turnkey support for these connectivity and control standards wi thout needing to invest engineering resources to develop \\ntheir own interfaces to these standards. Factories that purchase manufacturing equipment enabled with Cimetrix-supported \\ninterfaces, benefit from consist ent and robust implementations of industry standards, enabling faster and more efficient \\nimplementation of smart manufacturing initiatives that depend on the collection and analysis of manufacturing and product'),\n",
       " Document(page_content='data. Cimetrix products are sold via perpetual licenses and typ ically sold as part of a softw are development kit (“SDK”) \\nthat helps equipment manufacturers implement them quickly. We c harge a one-time fee per equipment product type for \\nthe SDK license and a one-time fee for each piece of equipment shipped that includes the Cimetrix runtime license. \\n• Equipment Factory Connectivity – Our products for equipment factory connectivity primarily inclu de the \\nfollowing:'),\n",
       " Document(page_content='following: \\n\\uf0a7 Cimetrix CIMConnect™ is a SEMI SECS/GEM interface to the factory host for automated control and \\ndata collection. The Cimetrix CIMConnect module supports multip le-host interfaces simultaneously, \\nwhich allows customers to support legacy, custom, and GEM interfaces. Cimetrix CIMConnect is used \\nin semiconductor wafer fabrication, semiconductor back-end (test, assembly, and packaging), PV, HB-'),\n",
       " Document(page_content='in semiconductor wafer fabrication, semiconductor back-end (test, assembly, and packaging), PV, HB-\\nLED, disk drive, flat panel displays, printed circuit boards an d other electronics manufacturing. In \\naddition to enabling the implementation of the SEMI SECS/GEM st andards E4, E5, E30, E37, E172, \\nand E173, Cimetrix CIMConnect also supports SEMI PV2 (PVECI), A3 (PCBECI), and HB4 (HB-LED \\nECI) standards.'),\n",
       " Document(page_content='ECI) standards. \\n\\uf0a7 Cimetrix CIM300™ is a GEM interface for 300mm equipment using SEMI standards, including E39, \\nE40, E87, E90, E94, E116, E148, and E157. These SEMI standards allow for the full automation \\nrequired in manufacturing 300mm wafers. Cimetrix CIM300 manages  the interdependencies between \\nthe standards and simp lifies complex scenarios for easy impleme ntation of the standards. These'),\n",
       " Document(page_content='the standards and simp lifies complex scenarios for easy impleme ntation of the standards. These \\nGEM300 standards are required for full automation in manufactur ing of 300mm wafers. Cimetrix Table of Contents \\n10 \\nCIM300 works with Cimetrix CIMConnect to implement the GEM300 a nd the original GEM suite of \\nstandards. \\n\\uf0a7 Cimetrix CIMPortal™ Plus is an interface for EDA, also known as Interface A. The EDA standards are'),\n",
       " Document(page_content='E120, E125, E132, E134, E138, E 147, and E164. Cimetrix CIMPorta l Plus implements the EDA \\nstandards in a flexible architecture that collects data from multiple sources and routes the data to multiple \\nclients simultaneously. Factories can use the data gathered through EDA interfaces for FDC, run-to-run \\nadvanced process control, equipment health monitoring, chamber/ tool matching, predictive'),\n",
       " Document(page_content='advanced process control, equipment health monitoring, chamber/ tool matching, predictive \\nmaintenance, virtual metrology, diagnostics, and many other equipment-related analytical applications. \\n• Equipment Factory Connectivity Testing – We provide the following products for testing the interfaces developed \\nusing our equipment factory connectivity products: Cimetrix Equ ipmentTest™, for testing and validating'),\n",
       " Document(page_content='compliance with the GEM and GEM300 standards, Cimetrix EDATester™, for testing and validating compliance \\nwith the EDA/Interface A standard s, and performan ce testing of the interface, and Cimetrix ECCE Plus™ for \\nquick testing of the EDA/Interface A interface. \\n• Equipment Control – Our equipment control product is the Cimetrix CIMControlFramework™ (“Cimetrix CCF”) \\nsoftware, which includes components for supervisory control, ma terial handling, operator interface, platform'),\n",
       " Document(page_content='control, and factory automation requirements, to allow equipmen t manufacturers to meet the requirements of \\nfabrication facilities. Developer s can leverage framework compo nents through configuration and extension or \\ncustomize the framework when unique requirements exist. Cimetrix CCF is designed to allow data generated at \\nany point on the equipment to be quickly and easily accessed by other modules or external applications. Cimetrix'),\n",
       " Document(page_content='CIMConnect, Cimetrix CIM300, and Cimetrix CIMPortal Plus are in tegrated with Cimetrix CCF to support the \\nSEMI GEM, GEM300, and EDA/Interface A standards. \\nServices \\nOur services are almost always sold together with, or to support, our products and include the following: \\nSoftware-as-a-Service – We provide services to make our Exensio software available to our customers via the Internet,'),\n",
       " Document(page_content='generally hosted by third-party providers. SaaS is considered part of cloud computing since the software is hosted on the \\nInternet, or the “cloud.” Since our SaaS applications are accessed from a remote server rather than installed on individual \\nmachines, it is easier to maintain. For example, when the remot e software is updated, the customer’s interface is also \\nupdated for all users. Cloud computing is designed to eliminate incompatibilities between different software versions and'),\n",
       " Document(page_content='allow us to make incremental updates without requiring software downloads. Additionally, our customers can save data to \\na central online location, which is designed to allow increased  project collaboration. As part of these services, we also \\ntypically provide hosted management services for the software and the customer’s data stored in our cloud. These services \\ninclude environment set-up and configuration, system health mon itoring, data integration maintenance, integration'),\n",
       " Document(page_content='monitoring, system updates, security, and data upload/download, and license administration. \\nSoftware Related Services  – We provide software maintenance and support (“M&S”), data ma nagement services, \\nvarious value-added services (“VAS”) to install, configure, or create analysis templates, and other professional services to \\nachieve customers’ specific outcomes using our software. We call this last type of services our solutions offering and, in'),\n",
       " Document(page_content='these cases, we tailor the use of  one or more Exensio products to achieve a desired result. For example, our AIM \\nYieldAware™ FDC solution offering is designed to identify the process control variables that have the greatest impact on \\nproduct yield through professional services that analyze the da ta from both Exensio Proce ss Control and elements of \\nExensio Manufacturing Analytics and make recommendations for th e customer to implement. VAS are provided by our'),\n",
       " Document(page_content='professional service personnel with expertise that enhances and complements the engineering teams at our customers. For \\nexample, VAS includes our data cleaning and monitoring services. One requirement of big data analytics is to have clean, \\nharmonized data to analyze. This service offering outsources th e data wrangling and management effort to free the \\ncustomer to focus their efforts on analysis, which has a greater ROI to the company than data management.'),\n",
       " Document(page_content='Characterization Services  – These services are designed to characterize key product and/ or process elements, \\nprimarily into CV test structures  or DFI on-chip measurement in struments, and typically do not include performance Table of Contents \\n11 \\nincentives based on the customers’ yield achievement. We provid e these services, typically together with all elements of \\nour CV system, to foundry customers in connection with new proc ess technology development and/or yield ramp. In'),\n",
       " Document(page_content='Characterization engagements, we generally provide the analysis of our CV test chips and provide summary findings and \\nrecommendations to the customer. Characterization engagements can include DFI systems. \\nCustomers \\nOur existing customers include f oundries, IDMs, fabless semicon ductor design companies, OSATs, equipment \\nmanufacturers, EMS, and ODMs, including those that embed and di stribute our Assembly Operations modules in their'),\n",
       " Document(page_content='equipment. Our semiconductor customers’ targeted product segmen ts vary significantly, including microprocessors, \\nmemory, graphics, image sensor solutions, and communications. W e believe that the adoption of our solutions by such \\ncompanies for usage in a wide range of products validates the a pplication of our solutions to the broader semiconductor \\nmarket. We often have multiple contracts with a single customer or customer group, with no interdependent performance'),\n",
       " Document(page_content='obligations. In general, our customer contracts are non-cancellable. \\nOne customer accounted for 35% of  our revenues for 2023, two cu stomers accounted for 41% of our revenues for \\n2022 and two customers accounted for 27% of our revenues for 2021. No other customers accounted for 10% or more of \\nour revenues in 2023, 2022 and 2021. Also, two customers accoun ted for 50% of our gross accounts receivable as of'),\n",
       " Document(page_content='December 31, 2023, and three cust omers accounted for 53% of our  gross accounts receivable as of December 31, 2022. \\nWe generally do not require collateral or other security to support accounts receivable. See the discussion in “Risk Factors” \\nunder Item 1A for more information about risks associated with customer concentration and contractual provisions. \\nInternational revenues accounted for approximately 44%, 50% and  55% of our total revenues for 2023, 2022 and'),\n",
       " Document(page_content='2021, respectively. We base these calculations on the geographi c location of where the work is performed or where the \\ncustomer is located. Revenues from customers by geographic area  based on the location of the customers’ work sites for \\nthe last three fiscal years can be found in Note 11, “Customer and Geographic Information” to the consolidated financial \\nstatements. Additional discussion regarding the risks associated with international operations can be found under Item 1A,'),\n",
       " Document(page_content='“Risk Factors”. \\nSee our “Notes to Consolidated F inancial Statements”, included under Part II, Item 8. “Financial Statements and \\nSupplementary Data” for additional geographic information. \\nSales and Marketing \\nOur sales strategy is primarily to pursue targeted accounts through a combination of our direct sales force, our service \\nteams, and strategic alliances. After we are engaged by a customer and early in the services process, our engineers seek to'),\n",
       " Document(page_content='establish relationships in the organization and gain an underst anding of our customers’ business issues. Our direct sales \\nand service teams combine their efforts to deepen our customer relationships by expanding our penetration across \\ncustomers’ products, processes, and technologies. This close wo rking relationship with each customer has the added \\nbenefit of helping us to identify new product areas and technol ogies in which we should next focus our research and'),\n",
       " Document(page_content='development efforts. From time-to-time, we use sales representa tives/agents in various locations to augment direct sales \\nin certain territories.  \\nWe expect to continue to establish strategic alliances with pro cess licensors, vendors in the electronic design \\nautomation software, capital equipment for IC production, and test silicon IP and mask-making software segments to create'),\n",
       " Document(page_content='and take advantage of sales channel and co-marketing opportunit ies. Additionally, we expect to form relationships with \\nkey value chain participants, including foundries and OSATs, to  provide services and value across the manufacturing \\nsupply chain. \\nResearch and Development \\nOur research and development focuses on developing and introduc ing new proprietary technologies for our'),\n",
       " Document(page_content='comprehensive platform, including our Exensio software, Cimetri x connectivity and control products, and DFI and CV \\nsystems, as well as other software products and enhancements to our existing solutions, such as field applications for DFI Table of Contents \\n12 \\nand CV and new applications targeted to inter-operate with stra tegic partner products. We use a rapid-prototyping \\nparadigm in the context of the customer engagement to achieve t hese goals. We have made, and expect to continue to'),\n",
       " Document(page_content='make, substantial investments in research and development. The complexity of our technologies requires expertise in \\nstandards, physical IC design and layout, transistor design and semiconductor physics, semiconductor process integration, \\nnumerical algorithms, e-beam tech nology, hardware, statistics a nd software development. We believe that our team of \\nengineers will continue to advance our market and technological  leadership. We conduct in-house training for our'),\n",
       " Document(page_content='engineers in certain technical ar eas. Our training also extends  to focusing on ways to enhance customer service skills. \\nAlthough it fluctuates, we can have up to one quarter of our research and development engineers assigned to one or more \\nprojects, partnered with solution services engineers, in a deliberate strategy to provide direct feedback between technology \\ndevelopment and customer needs. We also utilize a variety of skilled independent contractors for specialized development.'),\n",
       " Document(page_content='Competition \\nThe semiconductor industry is highly competitive and driven by rapidly changing design and process technologies, \\nevolving standards, short product life cycles, and decreasing prices. We expect market competition to continue to develop \\nand increase as the market for data and analytics continues to evolve. We believe IC companies benefit from a combination \\nof big data management infrastructure, AI/ML-based analytics en gines, and products that generate and collect'),\n",
       " Document(page_content='differentiated data that enrich the analytics process. Currentl y, we are a leading provider o f comprehensive commercial \\nhardware, software and IP solutions for optimizing and improvin g design, manufacturing and test operations processes \\nthrough the application of differentiated data and advanced analytics. As a result, we face competition from three primary \\ngroups: internal customer development or design programs, equipment solutions providers, and providers of analytical and'),\n",
       " Document(page_content='design software. We face indirect competition from internal groups at IC companies that offer tools with varying degrees \\nof optimization to accelerate pr ocess-design integration or tes t operations. Some providers of semiconductor \\nmanufacturing software, inspection equipment, electronic design  automation, or design IP may seek to broaden their \\nproduct offerings and compete with us. In addition, companies providing general ML and analytics software may focus on'),\n",
       " Document(page_content='semiconductor companies and compete with us. In each of the market segments we compete in, we face competition from \\nestablished and potential competitors, some of whom may have gr eater financial, research, engineering, manufacturing \\nand marketing resources than we have. \\nWe currently face indirect competition from the internal groups at IC companies and direct competition from providers'),\n",
       " Document(page_content='of (i) yield management and/or prediction systems, such as KLA Corporation (“KLA”), Siemens AG (“Siemens”), Onto \\nInnovation, Inc. (“Onto”), and Synopsys, Inc. (“Synopsys”); (ii) semiconductor manufacturing software, such as Applied \\nMaterials, Inc (“Applied Materials”), Synopsys, Invantest, Inc. , Emerson Electric Co., Onto,  and Siemens; (iii) inline \\ninspection, metrology and electrical test equipment providers, such as ASML Holding N.V. (“ASML”), Applied Materials,'),\n",
       " Document(page_content='KLA, and Keysight Technologies, Inc.; and, (iv) connectivity software or integration products/services supporting factory \\nequipment connectivity or control needs of customers, such as P E E R  G r o u p ,  I n c . ,  K o n t r o n  A I S ,  G m b H ,  Y o k o g a w a  \\nElectric Corp., Advantest, and Kornic Automation Co. Ltd. There  may be other providers of competitive commercial'),\n",
       " Document(page_content='solutions of which we are not aware, and we may compete with th e products or offerings of these named companies or \\nadditional companies if we expand our offerings through acquisitions or development. For example, since our acquisition \\nof Cimetrix in late 2020, we now face competition in the produc ts/services supporting the connectivity, control and \\nintegration of factory equipment. The demand for solutions that address the need for better integration between the silicon'),\n",
       " Document(page_content='design and manufacturing processes may encourage direct competitors to enter our market. For example, in 2020, two of \\nour competitors were acquired by larger entities, Synopsys acqu ired Qualtera and NI, Inc. acquired Optimal+, and each \\nhas increased marketing or pricing competition with us. For example, in 2023, Emerson Electric Co. acquired NI, Inc. This \\ncompetition in our market may intensify in the future, which could lead to increased pricing pressure, negatively impacting'),\n",
       " Document(page_content='our revenues, and slow our ability to grow or execute our strategy. Also, our current and potential customers may choose \\nto develop their own solutions internally, particularly if we are slow in deploying our solutions or improving them to meet \\nmarket needs. These and other competitors may be able to operat e  w i t h  a  l o w e r  c o s t  s t r u c t u r e  t h a n  o u r  e n g i n e e r i n g'),\n",
       " Document(page_content='organization, which would give any such competitor’s products a competitive advantage over our solutions. \\nWe believe that our solutions compare favorably with respect to  competition because we have demonstrated results \\nand reputation, strong core technology, ability to create innovative technology, and ability to implement solutions for new \\ntechnology and product generations. See the discussions in “Risk Factors” under Item 1A for more information about risks'),\n",
       " Document(page_content='associated with our competition. Table of Contents \\n13 \\nHuman Capital Management \\nWe believe that our future success will depend, in part, on our  continued ability to hire and retain qualified \\nmanagement, sales, and technical employees. Consequently, we se ek to engage in sound ethical and organizational \\ngovernance, promote business et hics and integrity, and embrace equality, diversity, and inclusion throughout our \\norganization.'),\n",
       " Document(page_content='organization. \\nAs of December 31, 2023, we had 493 employees worldwide, includ ing 171 field application engineers and \\nconsultants, 155 in research and development, 106 in sales and marketing, and 61 in general and administrative functions. \\nOf these employees, 285 are located in the United States, 172 in Asia, and 36 in Europe. \\nNone of our employees are represented by a labor union. Our employees in France and Italy are subject to collective \\nbargaining agreements in those countries.'),\n",
       " Document(page_content='bargaining agreements in those countries. \\nOur commitment to human capital management is embedded in our governance structure \\nAt the Board level, our Compensation and Human Capital Manageme nt Committee is tasked with oversight of the \\ndevelopment, implementation and effectiveness of our policies a nd strategies relating to human capital management, \\nincluding strategies regarding recruiting, selection, career de velopment and progression, and diversity and employment'),\n",
       " Document(page_content='practices. Further, our Nominating and Corporate Governance Committee is tasked with primary oversight for governance \\nand ESG issues. \\nTalent Development \\nWe are committed to the development and growth of our employees  because we believe this is crucial for our long-\\nterm success. This includes offering training, mentorship, and other development opportunities to further enhance the \\ntalent we have today, but also entails having the right skill sets for our future.'),\n",
       " Document(page_content='talent we have today, but also entails having the right skill sets for our future. \\nTo this end, we are working to implement a planned set of actions around increasing formal programs to achieve these \\ngoals. We believe that our team of engineers will continue to advance our market and technological leadership. We conduct \\nin-house training for our engineers in certain technical areas.'),\n",
       " Document(page_content='in-house training for our engineers in certain technical areas. \\nWe also fund attendance at continuing education courses, symposia, and participation in professional organizations. \\nEmployee Engagement \\nEmployee engagement is crucial for the overall health of the organization. In 2023, we conducted a survey of all our \\nemployees to assess overall employee engagement. \\nIn addition to our efforts to address employee engagement, we a re committed to supporting our employees and'),\n",
       " Document(page_content='creating an engaged workforce by prioritizing the items below: \\n• personal growth through training and development; \\n• recognizing and rewarding our people for their commitment to our values and our organization; \\n• flexible work locations and schedules; and \\n• providing a sense of organizational community by hosting online  as well as in-person events where our people \\ncan gather and connect. Table of Contents \\n14 \\nHealth and Safety'),\n",
       " Document(page_content='can gather and connect. Table of Contents \\n14 \\nHealth and Safety \\nWe are committed to ensuring that proper working conditions exi s t  f o r  t h e  s a f e t y  o f  o u r  e m p l o y e e s ,  s u c h  a s  \\ndeveloping, implementing, and improving health and safety syste ms and conditions, and providing appropriate \\npreparation, education, reporting, and controls. \\nDiversity, Equity, and Inclusion'),\n",
       " Document(page_content='preparation, education, reporting, and controls. \\nDiversity, Equity, and Inclusion \\nWe work to ensure that our business practices support diversity and inclusion to build an innovative workforce and to \\nstrive toward having our organization reflect the complexion of  o u r  c u s t o m e r s  a n d  s u p p l i e r s .  I n  F e b r u a r y  2 0 2 4 ,  a f t e r  \\nconsidering the recommendation of the Nominating and Corporate Governance Committee, the Compensation and Human'),\n",
       " Document(page_content='Capital Management Committee approved, and then our Board adopt ed, a Human Rights policy and a Diversity, Equity, \\nand Inclusion (“DEI”) Policy to better implement our core values and relevant standards into our governance structure.  \\nWe are strengthening our diversity and inclusion programs with actions around organizational training, on-going \\neducation and focus on our company values, and a revitalized recruitment strategy.'),\n",
       " Document(page_content='education and focus on our company values, and a revitalized recruitment strategy. \\nWe value a range of diverse perspectives with reference to our business model and specific needs, including, but not \\nlimited to, gender, age, race, lan guage, cultural background, e ducational background, industry experience, professional \\nexperience, and veteran and active armed service status or other similar characteristics.  \\nInformation about our Executive Officers'),\n",
       " Document(page_content='Information about our Executive Officers \\nThe following table and notes set forth information about our c urrent executive officers as of the date of this \\nForm 10 - K. \\n   \\nName      Age     Position\\nJ o h n  K .  K i b a r i a n ,  P h . D .  .....  5 9  P r e s i d e n t ,  C h i e f  E x e c u t i v e  O fficer, and Director \\nA d n a n  R a z a  ...............  5 1  E x e c u t i v e  V i c e  P r e s i d e n t ,  F i n a n ce and Chief Financial Officer'),\n",
       " Document(page_content='K i m o n  W .  M i c h a e l s ,  P h . D .  ...  5 7  E x e c u t i v e  V i c e  P r e s i d e n t ,  P r o ducts and Solutions and Director\\nAndrzej Strojw a s ,  P h . D .  .....  7 1  C h i e f  T e c h n o l ogy Officer\\nJohn K. Kibarian, Ph.D., one of our founders, has served as President since November 1 991 and has served as our \\nChief Executive Officer since July  2000. Dr. Kibarian has serve d as a director on our Board of Directors since'),\n",
       " Document(page_content='December 1992. Dr. Kibarian received a B.S. in Electrical Engineering, an M.S. E.C.E. and a Ph.D. E.C.E. from Carnegie \\nMellon University. \\nAdnan Raza, joined in January 2020 as Executive Vice President, Finance, and was appointed Chief Financial Officer \\neffective in March 2020. Prior to joining the Company, Mr. Raza served as an independent strategy consultant for private'),\n",
       " Document(page_content='and public companies from July 2019 to January 2020. Prior to that, Mr. Raza served in various roles at Synaptics Inc., a \\ndeveloper of human interface technologies, including as Senior Vice President of Corporate Development from \\nAugust 2017 to June 2019 and Vice President of Corporate Development from February 2015 to August 2017. Prior roles \\ninclude technology investment banking at Goldman, Sachs & Co. a nd UBS Investment Bank, strategic advising at'),\n",
       " Document(page_content='Blackreef Capital, engineering and  marketing at Azanda Network Devices, and engineering at Lucent Technologies. \\nMr. Raza also served as a Board Member at FIDO Alliance, an alliance of leading technology companies to enhance user \\nsecurity and authentication. Mr . Raza holds an M.B.A. from The Wharton School at the University of Pennsylvania, a \\nM. Eng. in Electrical Engineerin g from Cornell University, and a B.S. in Electrical Engineering from Valparaiso \\nUniversity.'),\n",
       " Document(page_content='University. \\nKimon W. Michaels, Ph.D., one of our founders, has served as Vice President, Products and Solutions since July 2010 \\nand was designated as an Executive VP in February 2019. Dr. Mic haels served as Vice President, Design for \\nManufacturability from June 2007 through June 2010. Prior to th at, Dr. Michaels served as Vice President, Field \\nOperations for Manufacturing Process Solutions from January 200 6 through May 2007, and has served as a director on'),\n",
       " Document(page_content='our Board of Directors since November 1995. From March 1993 thr ough December 2005, he served in various vice \\npresidential capacities. He also served as Chief Financial Offi cer of the Company from November 1995 to July 1998. \\nDr. Michaels received a B.S. in Electrical Engineering, and M.S . E.C.E. and a Ph.D. E.C.E. from Carnegie Mellon \\nUniversity. Table of Contents \\n15 \\nAndrzej Strojwas, Ph.D. , served as a technical advisor to the Company from our foundin g until 2021 and as chief'),\n",
       " Document(page_content='technologist from 1997 to 2021. He joined the Company as an emp loyee in July 2021 as Vice President and Technical \\nGeneral Manager, and was appointed Chief Technology Officer eff ective December 2021. From October 1982 to \\nJuly 2021, Dr. Strojwas was the Keithley Professor of Electrica l and Computer Engineering at Carnegie Mellon \\nUniversity. In addition, Dr. Strojwas has held senior technical  positions at Harris Semiconductor Co., AT&T Bell Labs,'),\n",
       " Document(page_content='Texas Instruments, NEC, Hitachi, SEMATECH, and KLA. He holds an  M.S. in Electronic Engineering from Warsaw \\nTechnical University and a Ph.D. in Electrical Engineering from Carnegie Mellon University. \\nAvailable Information \\nWe file or furnish various reports, such as registration statements, periodic and current reports, proxy statements and \\nother materials with the SEC. Our Internet website address is w ww.pdf.com. You may obtain, free of charge on our'),\n",
       " Document(page_content='website, copies of our annual reports on Form 10  - K, quarterly reports on Form 10  - Q, current reports on Form 8  - K, and \\namendments to those reports filed or furnished pursuant to Sect ion 13(a) or 15(d) of the Exchange Act, as soon as \\nreasonably practicable after we electronically file such materi al with, or furnish it to, the SEC. The Company’s website \\naddress provided is not intended to function as a hyperlink, an d the information on the Company’s website is not, and'),\n",
       " Document(page_content='should not be considered, part of this Annual Report on Form 10 - K and is not incorporated by reference herein. \\nThe SEC maintains a Web site (http://www.sec.gov) that contains reports, proxy and information statements and other \\ninformation regarding issuers, such as us, that file electronically with the SEC. \\n  Table of Contents \\n16 \\nItem 1A. Risk Factors \\nA description of the risk factors associated with our business is set forth below. Some of these risks are highlighted in'),\n",
       " Document(page_content='the following discussion, and in Management’s Discussion and Analysis of Financial Condition and Results of Operations, \\nLegal Proceedings, and Quantitative and Qualitative Disclosures About Market Risk. The occurrence of any of these risks \\nor additional risks and uncertainties not presently known to us or that we currently believe to be immaterial could materially \\nand adversely affect our business, operating results, financial  condition, and stock price. These risks and uncertainties'),\n",
       " Document(page_content='could cause our actual results to differ materially from the re sults contemplated by the forward-looking statements \\ncontained in this report. Investors should carefully consider a ll relevant risks and uncertainties before investing in our \\ncommon stock. \\nRisk Factors Summary \\nRisks Associated with Our Business \\n• We have invested significant resources into research and develo pment of our DFI system and Exensio software'),\n",
       " Document(page_content='and if we fail to successfully carry out these initiatives on the expected timeline or at all, our business, financial \\ncondition, or results of operations could be adversely impacted. \\n• Our sales cycle is lengthy and customers may delay entering into contracts or decide not to adopt our products or \\nsolutions after we have performed services or supported their evaluation of our technology, which could result in'),\n",
       " Document(page_content='delays in recognizing revenue and could negatively impact our results of operations in a quarter or result in lower \\nrevenue than we expected if a contract is not consummated. \\n• We rely on sole-source providers for certain software as well as for specialized parts for our eProbe hardware and \\nsupply-chain delays or disrupti ons could increase our costs or impact our ability to provide complete software'),\n",
       " Document(page_content='solutions or to build additional hardware tools or meet customer expectations or deadlines, which could result in \\nlost sales and lower earnings. \\n• Our fixed-fee services for product or system installations/conf igurations may take longer than budgeted, which \\ncould slow our revenue recognition and may result in a lost contract or a claim of breach by our customers, which \\nwould negatively affect our financial and operating results.'),\n",
       " Document(page_content='would negatively affect our financial and operating results. \\n• Our ability to sell our products, systems, and solutions depends in part on the quality of our support and services \\nofferings, and the failure to offer high-quality support and se rvices could negatively affect our sales and results \\nof operations. \\n• Defects in our proprietary technologies, hardware and software tools, and failure to effectively remedy any such'),\n",
       " Document(page_content='defects could decrease our revenue and our competitive market share. \\n• Objectionable disclosure of our customers’ confidential information or our failure to comply with our customers’ \\nsecurity rules, including for those related to SaaS access, AI use, or our on-site access, could result in costly \\nlitigation, cause us to lose existing and potential customers, or negatively impact on-going business with existing \\ncustomers.'),\n",
       " Document(page_content='customers. \\n• We generate a significant portion of our revenues from a limited number of customers, and a large percentage of \\nour revenues from one customer, so defaults or decreased business with, or the loss of, any one of these customers, \\nor pricing pressure, or customer consolidation could significantly reduce our revenues or margins and negatively \\nimpact results of operations. \\n• If we do not continuously meet our development milestones of ke y research and development projects or'),\n",
       " Document(page_content='successfully commercialize our DFI system, our future market opportunity and revenues will suffer, and our costs \\nmay not be recouped. Table of Contents \\n17 \\n• We are required to comply with governmental export and import r equirements that could subject us to liability \\nand restrict our ability to sell our products and services, which could impair our ability to compete in international \\nmarkets.'),\n",
       " Document(page_content='markets. \\n• Decreases in wafer volumes at our customers’ manufacturing site s or the volume of ICs that some of our \\ncustomers are able to sell to their customers would cause our Integrated Yield Ramp revenue to suffer. \\n• We acquired an early-stage battery-solutions provider and have been investing in research and development for \\nnew products and services beyond our traditional semiconductor focus, and it could take a long time to reach \\nmarket acceptance and recoup our costs, if at all.'),\n",
       " Document(page_content='market acceptance and recoup our costs, if at all. \\n• Our success depends upon our ability to effectively plan and ma nage our resources and restructure our business \\nthrough rapidly fluctuating economic and market conditions, whi ch actions may have an adverse effect on our \\nfinancial and operating results. \\n• Our business may be negatively im pacted by social, political, g eopolitical, economic instability, unrest, war,'),\n",
       " Document(page_content='terrorism, or other circumstances that could interrupt our business operations, which could cause us to lose sales \\nor delay or be unable to fulfill contractual commitments, which may have an adverse effect on our financial and \\noperating results. \\n• Global economic conditions or semiconductor market conditions c ould materially adversely impact demand for \\nour products and services, decrease our sales, or delay our sales cycle.'),\n",
       " Document(page_content='our products and services, decrease our sales, or delay our sales cycle. \\n• We face challenges in providing a  comprehensive s olution outsid e of the semiconductor industry due to \\nlimitations on the business areas in which we can use current t hird-party licensed technology, which may make \\nit prohibitively expensive to sell our solution for applications outside of our traditional industry. \\nRisks Related to Our Technology'),\n",
       " Document(page_content='Risks Related to Our Technology \\n• If we fail to protect our IP rights, customers or potential com petitors may be able to use our technologies to \\ndevelop their own solutions, which could weaken our competitive position, reduce our revenues, or increase our \\ncosts. \\n• We are exposed to risks related to information technology infrastructure, information management and protection, \\ncybersecurity threats, and cyber incidents.'),\n",
       " Document(page_content='cybersecurity threats, and cyber incidents. \\n• We and our customers are subject to laws and regulations concer ning data privacy, dat a security, consumer \\nprotection, and advertising and these laws and regulations are continually evolving, which exposes us to potential \\nmaterial risks. \\n• Our technologies could infringe the IP rights of others, causing costly litigation and the loss of significant rights.'),\n",
       " Document(page_content='• Competition in the market for data analytics and related systems and services may intensify in the future, which \\ncould impede our ability to grow or execute our strategy. \\n• Generative AI and the user other advanced AI technologies for s oftware development may subject us to claims \\nof misappropriation of others’ IP, bugs/errors, and ambiguous ownership of created content. \\nRisks Related to Our Operations'),\n",
       " Document(page_content='Risks Related to Our Operations \\n• Measurement of our variable consideration sometimes require dat a collection and customers’ use of estimates \\nand are contingent upon customers’ consent and may be later offset if actual data differ from customers’ estimates, \\nwhich can result in uncertainty and cause quarterly results to fluctuate. Table of Contents \\n18 \\n• We have customers with past due balances and our failure to collect a significant portion of such balances could'),\n",
       " Document(page_content='adversely affect our cash, require us to write-off receivables,  or increase our expense or allowance for credit \\nlosses. \\n• We face operational and financial risks associated with international operations that could negatively impact our \\nrevenues. \\n• Our business is subject to evolving corporate governance and pu blic disclosure regulations and expectations, \\nincluding with respect to ESG matters that could expose us to numerous risks.'),\n",
       " Document(page_content='including with respect to ESG matters that could expose us to numerous risks. \\n• Provision of certain of our data services relies on installing, configuring, and operating proprietary configuration \\nof hardware and software systems located in third-party facilit ies and errors affecting such facilities’ operations \\ncould lead to liability for us, and any objection from such third-party facility or delay in providing us physical or'),\n",
       " Document(page_content='logical access to our systems may adversely impact our ability to timely perform our contract obligations or lead \\nto confidentiality, integrity, availability, security, or privacy controls exceptions. \\nTax Risks \\n \\n• U.S. federal tax reform and chan ges in foreign tax laws could c hange our tax burden and adversely affect our \\nbusiness and financial condition. \\n• Future events may impact our deferred tax asset position, inclu ding the utilization of net operating loss and tax'),\n",
       " Document(page_content='credit carryforwards. \\nRisks Related to Our Strategic Transactions \\n• We may devote significant time and resources to developing stra tegic relationships but we may not realize the \\nbenefits of such efforts, which could have an adverse effect on our business and results of operations. \\n• Our acquisitions create special risks and challenges that could adversely affect our financial results. \\nGeneral Risk Factors'),\n",
       " Document(page_content='General Risk Factors \\n• If we are not able to retain, a ttract, motivate, and strategica lly locate talented employees, including some key \\nexecutives, our business may suffer. \\n• Our earnings per share and other operating results may vary quarter to quarter, which could result in not meeting \\ninvestors’ expectations and stock price volatility. \\n• Our business could be negatively affected as a result of actions of activist shareholders, and such activism could'),\n",
       " Document(page_content='impact the trading value of our securities. \\nRisks Associated with Our Business \\nWe have invested significant resources into research and development of our DFI system and Exensio software and if \\nwe fail to successfully carry out these initiatives on the expected timeline or at all, our business, financial condition, or \\nresults of operations could be adversely impacted. \\nAs part of the evolution of our business, we have made substant ial investments in research and development efforts'),\n",
       " Document(page_content='to develop our DFI system and Exensio software. New competitors, technological advances in the semiconductor industry \\nor other competitive factors may require us to further invest significantly greater resources than we anticipate. If we invest \\nsignificantly greater resources than anticipated without a corr esponding increase in revenue, our operating results could \\ndecline. The technologies and products that we invest in may not result in products that create additional revenue, and we')]"
      ]
     },
     "execution_count": 87,
     "metadata": {},
     "output_type": "execute_result"
    }
   ],
   "source": [
    "docs"
   ]
  },
  {
   "cell_type": "code",
   "execution_count": 88,
   "id": "9bddbe78",
   "metadata": {},
   "outputs": [
    {
     "data": {
      "text/plain": [
       "90"
      ]
     },
     "execution_count": 88,
     "metadata": {},
     "output_type": "execute_result"
    }
   ],
   "source": [
    "len(docs)"
   ]
  },
  {
   "cell_type": "markdown",
   "id": "64765302",
   "metadata": {},
   "source": [
    "## Now we finally add the chunked data into our vector_store"
   ]
  },
  {
   "cell_type": "code",
   "execution_count": 89,
   "id": "d8a5ea96",
   "metadata": {},
   "outputs": [
    {
     "data": {
      "text/plain": [
       "['74b60f15a7dd44f490bc7465a7cb3411',\n",
       " 'a4ed7144bab24e02ab076a8e924db5d8',\n",
       " 'f5225efba0694dc49d2e92ff55ded29e',\n",
       " '6b7daf8a056f47fdac828247f11b8577',\n",
       " '26f4f878dfd44824a1dc4226935af444',\n",
       " '260a124f1d7449fb99a837016ab77467',\n",
       " 'e60fc51cf8904823b40e1fc804a4818c',\n",
       " 'd7fa6c9d95a64c7493f7233b720326c8',\n",
       " '19cbaab3ff7b4cc8a2f95597a50b7028',\n",
       " '5c6cc975abf1472c9f8e793ae1fbb53b',\n",
       " '43f7f15547b2497cbe5e84ad274e5e0a',\n",
       " '6646892966364edbad343fa9384f0c67',\n",
       " '989a107b41c241999d732e9855299b72',\n",
       " 'c4393244ec504aa4bbd938c355c22646',\n",
       " '239ec5cf90d3444fbfe0c744ce4b7127',\n",
       " '9eb93b3850fd49ee98f2f32d548a435a',\n",
       " 'df6e336de74742acadb4b29e5606a4dc',\n",
       " 'b48ab04e51bd42eab9c0781b5f4c9aad',\n",
       " '6e77fffdf27949e7a94080a68e317dd5',\n",
       " '4c2e208122a742b1a9b3082ff834e8f6',\n",
       " '6cbd891adb30430ba6a6d42800f2db65',\n",
       " '6c29fff67f694ad58c808c312a0c1db9',\n",
       " '8fe4f454d9a34c42abc8c4825b945392',\n",
       " '649c3dc1297d4a28abd74c73b3c43dc7',\n",
       " '322ecdb39c9a458a8a2e79a122d9fec9',\n",
       " '9aa93050101a477ca6d8d9e12d180dcc',\n",
       " '4e4b7c020a9d4b358df26861ab2d88c3',\n",
       " 'be16d68c5c3e4fe4b6d67d9025d25320',\n",
       " 'd5fc9b921bfb4974bd3538a5ffdd3823',\n",
       " '51f8cc73de0045cebe568428577eca16',\n",
       " 'b8da90fcb2bc47cd80080274066cac89',\n",
       " '8961d2c180254ef39a4e0a4f88d70215',\n",
       " 'f90aba561379478199ff631a272b2f6e',\n",
       " 'a879a1ee87984a129f8cad9685309678',\n",
       " '3aeaec9abf5643aebeec48365ab4d04c',\n",
       " '49fc683159114e43990255bc4e60320f',\n",
       " '636a58e51b794fd09ed1f077b9878bac',\n",
       " '70234778ec434be4b3a99aed99150f35',\n",
       " 'f1bd48401bce4a5a9e4cd3b62563456c',\n",
       " 'e3fc25274104460bb9638f5f112ebc0c',\n",
       " '95672f0b10954c72849c778115654736',\n",
       " 'fd5d320d81484d42bd15669aabe50f03',\n",
       " '05e15e2765004e6ca84ee52936267912',\n",
       " 'ba9a86d1354e4a03a38e8d2599901dd0',\n",
       " 'edb2e7b9b386482bb2ff9b4260a59b20',\n",
       " '78d2f68b798e4adbb114a0e907ab6cc4',\n",
       " '1f3b9f3366e44a1782da0b171a64959c',\n",
       " '97cf8da3dbe44c17bceda5a014e4e964',\n",
       " 'a0c8caee7af04374a31e54d9d7e1bf05',\n",
       " 'bbd98e8868564b7aa16cff0d33f40ddb',\n",
       " '210fe27704cd4fc59b869ab6920802c9',\n",
       " '70e45ab07b00440ca94570b9e56896dd',\n",
       " 'fa3af14a32ed42f78747176062270d43',\n",
       " '40e4f73358a840c2b16f3d3ed3d33405',\n",
       " '31b4739a38664b2ab5c3a5f5bc7df161',\n",
       " 'e4111ee2aee04b27a1b5c3332af99ad2',\n",
       " 'c8bd12c9b2b94ef5916ba97c28038ea7',\n",
       " 'f158578a5dfc422aa064459a72cfbce1',\n",
       " '9df440ad89344e859e496facecd15366',\n",
       " '6dbbef916bf548b5b8a3d310c11b30f5',\n",
       " '4c12f95bec5346969a32b3bfab0ccf01',\n",
       " '84198536d9794b779bcfd4be90802b47',\n",
       " '0f0fe80c9db64890b7e5e6f7fc3c3edc',\n",
       " 'b88bb25626d74f81b08cbecba6698c2d',\n",
       " 'd5914a52a0204ff79002a3bb3c8e14c7',\n",
       " 'df40200b7047499ab0ed188e872752da',\n",
       " 'e66ad05efee84786b1f85cdf83f36022',\n",
       " '1f73e94232c949e4ba63163d10469e31',\n",
       " 'ea44dc54eafc4493ac31af254a6d4648',\n",
       " '724a48d39086422f92a74709b8b9a6ae',\n",
       " 'b7ee96c52846450ebfae5c7cf86c8551',\n",
       " 'c787ae8f1afe47119bf0b7f37cbb1382',\n",
       " '7d015b8347194cffa6f31ba47454f583',\n",
       " 'db03fc1630ee4ad5b5bdca777d73dfcb',\n",
       " '0c0b4c670b1c477d85a564ea8b279321',\n",
       " '998d9668ead246d89d2ed93357ee6f46',\n",
       " '208a0dee33524ffe95107bdd4f7f0d2f',\n",
       " '3c12f7d44fa64c1aa1286c85253596dc',\n",
       " '00712a5bdcf64351b03a3ae6a886a9d7',\n",
       " '78269285de2d43e58894c9b9508f38d6',\n",
       " '1a4b2403b560406cabdf050d10c97b80',\n",
       " '5ff6a664b37b4db8b6c9f6f67fda41dd',\n",
       " '85b589d2592746559b05b6ae48cbe1fa',\n",
       " '5326b9ba91a940c0a56cd99d2aedc78e',\n",
       " '504ae14516334a2c92caa62001f5e37a',\n",
       " '7e52a9dd113c43fd801ed9baff455be3',\n",
       " '7089bc0f4a664516abec8c912a284531',\n",
       " '2463da3936a14d68a96b4438f7e37cf2',\n",
       " '23ac5b5f5c804f59b4a58026ec679d9d',\n",
       " 'e1c88bbe4fd540dfadb72195f74aaebc']"
      ]
     },
     "execution_count": 89,
     "metadata": {},
     "output_type": "execute_result"
    }
   ],
   "source": [
    "\n",
    "vstore.add_documents(docs)"
   ]
  },
  {
   "cell_type": "markdown",
   "id": "0e4262e8",
   "metadata": {},
   "source": [
    "#### data ingestion is done!!!!, retrieval and generation needs to be done"
   ]
  },
  {
   "cell_type": "markdown",
   "id": "c541a9bf",
   "metadata": {},
   "source": [
    "# 2. Retrival"
   ]
  },
  {
   "cell_type": "code",
   "execution_count": null,
   "id": "39876e88",
   "metadata": {},
   "outputs": [],
   "source": [
    "retriever = vstore.as_retriever(search_kwargs={\"k\":3})\n",
    "\n",
    "# k=3 is to pick the top 3 similar responses"
   ]
  },
  {
   "cell_type": "code",
   "execution_count": null,
   "id": "c91e0a11",
   "metadata": {},
   "outputs": [
    {
     "data": {
      "text/plain": [
       "[Document(page_content='organization, which would give any such competitor’s products a competitive advantage over our solutions. \\nWe believe that our solutions compare favorably with respect to  competition because we have demonstrated results \\nand reputation, strong core technology, ability to create innovative technology, and ability to implement solutions for new \\ntechnology and product generations. See the discussions in “Risk Factors” under Item 1A for more information about risks'),\n",
       " Document(page_content='“Risk Factors”. \\nSee our “Notes to Consolidated F inancial Statements”, included under Part II, Item 8. “Financial Statements and \\nSupplementary Data” for additional geographic information. \\nSales and Marketing \\nOur sales strategy is primarily to pursue targeted accounts through a combination of our direct sales force, our service \\nteams, and strategic alliances. After we are engaged by a customer and early in the services process, our engineers seek to'),\n",
       " Document(page_content='impact the trading value of our securities. \\nRisks Associated with Our Business \\nWe have invested significant resources into research and development of our DFI system and Exensio software and if \\nwe fail to successfully carry out these initiatives on the expected timeline or at all, our business, financial condition, or \\nresults of operations could be adversely impacted. \\nAs part of the evolution of our business, we have made substant ial investments in research and development efforts')]"
      ]
     },
     "execution_count": 92,
     "metadata": {},
     "output_type": "execute_result"
    }
   ],
   "source": [
    "# eg: will get 3 docs/responses\n",
    "retriever.get_relevant_documents(\"What is the market for Registrant's common equity?\")"
   ]
  },
  {
   "cell_type": "code",
   "execution_count": 93,
   "id": "a3a0288d",
   "metadata": {},
   "outputs": [],
   "source": [
    "PRODUCT_BOT_TEMPLATE = \"\"\"\n",
    "    Your finance bot is an expert in finance related advice.\n",
    "    Ensure your answers are relevant to the query context and refrain from straying off-topic.\n",
    "    Your responses should be concise and informative.\n",
    "\n",
    "    CONTEXT:\n",
    "    {context}\n",
    "\n",
    "    QUESTION: {question}\n",
    "\n",
    "    YOUR ANSWER:  \n",
    "\"\"\""
   ]
  },
  {
   "cell_type": "code",
   "execution_count": 95,
   "id": "19c697fa",
   "metadata": {},
   "outputs": [],
   "source": [
    "from langchain_core.prompts import ChatPromptTemplate"
   ]
  },
  {
   "cell_type": "code",
   "execution_count": 96,
   "id": "0017b3bd",
   "metadata": {},
   "outputs": [],
   "source": [
    "prompt = ChatPromptTemplate.from_template(PRODUCT_BOT_TEMPLATE)"
   ]
  },
  {
   "cell_type": "code",
   "execution_count": 98,
   "id": "c6253c15",
   "metadata": {},
   "outputs": [],
   "source": [
    "from langchain_openai import ChatOpenAI"
   ]
  },
  {
   "cell_type": "code",
   "execution_count": 100,
   "id": "eaa9f8ea",
   "metadata": {},
   "outputs": [],
   "source": [
    "llm = ChatOpenAI()"
   ]
  },
  {
   "cell_type": "code",
   "execution_count": 101,
   "id": "5d230373",
   "metadata": {},
   "outputs": [],
   "source": [
    "from langchain_core.runnables import RunnablePassthrough"
   ]
  },
  {
   "cell_type": "code",
   "execution_count": 102,
   "id": "620bf0ed",
   "metadata": {},
   "outputs": [],
   "source": [
    "from langchain_core.output_parsers import StrOutputParser"
   ]
  },
  {
   "cell_type": "code",
   "execution_count": 108,
   "id": "6f28d14c",
   "metadata": {},
   "outputs": [],
   "source": [
    "chain = (\n",
    "    {\"context\": retriever, \"question\": RunnablePassthrough()}\n",
    "    | prompt\n",
    "    | llm\n",
    "    | StrOutputParser()\n",
    "     \n",
    ")"
   ]
  },
  {
   "cell_type": "code",
   "execution_count": 109,
   "id": "8bcaef3d",
   "metadata": {},
   "outputs": [
    {
     "data": {
      "text/plain": [
       "'The market for Registrant\\'s common equity is influenced by factors such as the company\\'s demonstrated results, reputation, core technology, ability to innovate, and ability to implement solutions for new technology and product generations. This can impact the trading value of the company\\'s securities. It is important to consider the risks associated with the company\\'s business, including investments in research and development, as these factors can affect the market for Registrant\\'s common equity. For more detailed information, refer to the \"Risk Factors\" section and the financial statements provided in the document.'"
      ]
     },
     "execution_count": 109,
     "metadata": {},
     "output_type": "execute_result"
    }
   ],
   "source": [
    "chain.invoke(\"What is the market for Registrant's common equity?\")"
   ]
  },
  {
   "cell_type": "markdown",
   "id": "03956f8d",
   "metadata": {},
   "source": [
    "answer = 'The market for Registrant\\'s common equity is influenced by factors such as the company\\'s demonstrated results, reputation, core technology, ability to innovate, and ability to implement solutions for new technology and product generations. This can impact the trading value of the company\\'s securities. It is important to consider the risks associated with the company\\'s business, including investments in research and development, as these factors can affect the market for Registrant\\'s common equity. For more detailed information, refer to the \"Risk Factors\" section and the financial statements provided in the document.'"
   ]
  },
  {
   "cell_type": "markdown",
   "id": "3f86ba33",
   "metadata": {},
   "source": [
    "## We have successfully used the chain, prompttemplate to send a question to the LLM and it has accessed the AstraDB to retrieve the response.!!!"
   ]
  },
  {
   "cell_type": "markdown",
   "id": "dad46efa",
   "metadata": {},
   "source": []
  }
 ],
 "metadata": {
  "kernelspec": {
   "display_name": "tradingchatbot",
   "language": "python",
   "name": "python3"
  },
  "language_info": {
   "codemirror_mode": {
    "name": "ipython",
    "version": 3
   },
   "file_extension": ".py",
   "mimetype": "text/x-python",
   "name": "python",
   "nbconvert_exporter": "python",
   "pygments_lexer": "ipython3",
   "version": "3.11.13"
  }
 },
 "nbformat": 4,
 "nbformat_minor": 5
}
